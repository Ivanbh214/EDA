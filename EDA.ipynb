{
  "nbformat": 4,
  "nbformat_minor": 0,
  "metadata": {
    "colab": {
      "name": "Untitled5.ipynb",
      "provenance": [],
      "mount_file_id": "https://github.com/Ivanbh214/EDA/blob/main/EDA.ipynb",
      "authorship_tag": "ABX9TyOtx/t/+mwm5Ud/JWqoc0Hg",
      "include_colab_link": true
    },
    "kernelspec": {
      "name": "python3",
      "display_name": "Python 3"
    },
    "language_info": {
      "name": "python"
    }
  },
  "cells": [
    {
      "cell_type": "markdown",
      "metadata": {
        "id": "view-in-github",
        "colab_type": "text"
      },
      "source": [
        "<a href=\"https://colab.research.google.com/github/Ivanbh214/EDA/blob/main/EDA.ipynb\" target=\"_parent\"><img src=\"https://colab.research.google.com/assets/colab-badge.svg\" alt=\"Open In Colab\"/></a>"
      ]
    },
    {
      "cell_type": "code",
      "metadata": {
        "id": "2BCyjyvSAdmQ"
      },
      "source": [
        "import pandas as pd"
      ],
      "execution_count": 1,
      "outputs": []
    },
    {
      "cell_type": "code",
      "metadata": {
        "id": "-W40bv9tNfdz"
      },
      "source": [
        "#Open the file in the github and copy the repository\n",
        "url = 'https://raw.githubusercontent.com/Ivanbh214/EDA/main/avocado.csv'\n",
        "df_avocado = pd.read_csv(url, sep=\",\", error_bad_lines=False)"
      ],
      "execution_count": 2,
      "outputs": []
    },
    {
      "cell_type": "code",
      "metadata": {
        "id": "zb6Ij462S6MW",
        "colab": {
          "base_uri": "https://localhost:8080/"
        },
        "outputId": "9803ddf1-08dc-45e9-bf2b-6cf8cd22edf8"
      },
      "source": [
        "print(df_avocado.head(5))"
      ],
      "execution_count": 3,
      "outputs": [
        {
          "output_type": "stream",
          "name": "stdout",
          "text": [
            "   Unnamed: 0        Date  AveragePrice  ...          type  year  region\n",
            "0           0  2015-12-27          1.33  ...  conventional  2015  Albany\n",
            "1           1  2015-12-20          1.35  ...  conventional  2015  Albany\n",
            "2           2  2015-12-13          0.93  ...  conventional  2015  Albany\n",
            "3           3  2015-12-06          1.08  ...  conventional  2015  Albany\n",
            "4           4  2015-11-29          1.28  ...  conventional  2015  Albany\n",
            "\n",
            "[5 rows x 14 columns]\n"
          ]
        }
      ]
    },
    {
      "cell_type": "code",
      "metadata": {
        "colab": {
          "base_uri": "https://localhost:8080/"
        },
        "id": "byjEoEQ2w2oy",
        "outputId": "cfaf378a-0ce5-493b-94f6-a3f066dad1d1"
      },
      "source": [
        "df_avocado.info()"
      ],
      "execution_count": 4,
      "outputs": [
        {
          "output_type": "stream",
          "name": "stdout",
          "text": [
            "<class 'pandas.core.frame.DataFrame'>\n",
            "RangeIndex: 18249 entries, 0 to 18248\n",
            "Data columns (total 14 columns):\n",
            " #   Column        Non-Null Count  Dtype  \n",
            "---  ------        --------------  -----  \n",
            " 0   Unnamed: 0    18249 non-null  int64  \n",
            " 1   Date          18249 non-null  object \n",
            " 2   AveragePrice  18249 non-null  float64\n",
            " 3   Total Volume  18249 non-null  float64\n",
            " 4   4046          18249 non-null  float64\n",
            " 5   4225          18249 non-null  float64\n",
            " 6   4770          18249 non-null  float64\n",
            " 7   Total Bags    18249 non-null  float64\n",
            " 8   Small Bags    18249 non-null  float64\n",
            " 9   Large Bags    18249 non-null  float64\n",
            " 10  XLarge Bags   18249 non-null  float64\n",
            " 11  type          18249 non-null  object \n",
            " 12  year          18249 non-null  int64  \n",
            " 13  region        18249 non-null  object \n",
            "dtypes: float64(9), int64(2), object(3)\n",
            "memory usage: 1.9+ MB\n"
          ]
        }
      ]
    },
    {
      "cell_type": "code",
      "metadata": {
        "colab": {
          "base_uri": "https://localhost:8080/"
        },
        "id": "j6NKjmoRw8Z5",
        "outputId": "6cb64cb5-7248-4479-9df8-da5ba90e3b6d"
      },
      "source": [
        "df_avocado.shape"
      ],
      "execution_count": 5,
      "outputs": [
        {
          "output_type": "execute_result",
          "data": {
            "text/plain": [
              "(18249, 14)"
            ]
          },
          "metadata": {},
          "execution_count": 5
        }
      ]
    },
    {
      "cell_type": "markdown",
      "metadata": {
        "id": "aF3Xq7Kh5BGn"
      },
      "source": [
        "We can see that 3 columns no have name, have numbers. So, this is have to be fix"
      ]
    },
    {
      "cell_type": "markdown",
      "metadata": {
        "id": "JCAj9wmFYioY"
      },
      "source": [
        "##Exploratory Data Analysis from avocado dataset\n",
        "1- Transform any character in interget ato NA \n",
        "\n",
        "*   Select the same type of variables\n",
        "\n",
        "*   Transform this character to NA\n",
        "\n",
        "\n",
        "2- Count the number of NA "
      ]
    },
    {
      "cell_type": "markdown",
      "metadata": {
        "id": "duEb1tEwR-GM"
      },
      "source": [
        "Kaggle notebook about the avocado price EDA \n",
        "\n",
        "1-https://www.kaggle.com/tekdogan/eda-for-avocado-prices\n",
        "\n",
        "2-https://www.kaggle.com/fabiorope/avocado-prices-eda\n",
        "\n",
        "3- https://www.kaggle.com/huseyinduman/avocado-prices-data-analysis-eda"
      ]
    },
    {
      "cell_type": "code",
      "metadata": {
        "colab": {
          "base_uri": "https://localhost:8080/"
        },
        "id": "sewn0Ums06CR",
        "outputId": "e7b67a63-b131-4102-9e8a-b0de36a545bd"
      },
      "source": [
        "df_avocado.columns"
      ],
      "execution_count": 6,
      "outputs": [
        {
          "output_type": "execute_result",
          "data": {
            "text/plain": [
              "Index(['Unnamed: 0', 'Date', 'AveragePrice', 'Total Volume', '4046', '4225',\n",
              "       '4770', 'Total Bags', 'Small Bags', 'Large Bags', 'XLarge Bags', 'type',\n",
              "       'year', 'region'],\n",
              "      dtype='object')"
            ]
          },
          "metadata": {},
          "execution_count": 6
        }
      ]
    },
    {
      "cell_type": "markdown",
      "metadata": {
        "id": "IXQX19djxgT8"
      },
      "source": [
        "**Variable categóricas**\n",
        "\n",
        "https://towardsdatascience.com/5-methods-to-check-for-nan-values-in-in-python-3f21ddd17eed\n",
        "\n",
        "1.   Elimination of space other characters\n",
        "\n"
      ]
    },
    {
      "cell_type": "code",
      "metadata": {
        "id": "FhIrFqWED_Ei"
      },
      "source": [
        "#From kaggle 3. Could be advisable to replace any character by NaN\n",
        "df_avocado.columns = df_avocado.columns.str.replace(' ', '_')\n",
        "df_avocado = df_avocado.drop('Unnamed:_0',1)"
      ],
      "execution_count": 7,
      "outputs": []
    },
    {
      "cell_type": "code",
      "metadata": {
        "id": "pb9axGMhHGoV",
        "colab": {
          "base_uri": "https://localhost:8080/"
        },
        "outputId": "92047130-0796-4745-aab1-8e2dd75047d4"
      },
      "source": [
        "print(df_avocado.head())"
      ],
      "execution_count": 8,
      "outputs": [
        {
          "output_type": "stream",
          "name": "stdout",
          "text": [
            "         Date  AveragePrice  Total_Volume  ...          type  year  region\n",
            "0  2015-12-27          1.33      64236.62  ...  conventional  2015  Albany\n",
            "1  2015-12-20          1.35      54876.98  ...  conventional  2015  Albany\n",
            "2  2015-12-13          0.93     118220.22  ...  conventional  2015  Albany\n",
            "3  2015-12-06          1.08      78992.15  ...  conventional  2015  Albany\n",
            "4  2015-11-29          1.28      51039.60  ...  conventional  2015  Albany\n",
            "\n",
            "[5 rows x 13 columns]\n"
          ]
        }
      ]
    },
    {
      "cell_type": "code",
      "metadata": {
        "id": "QTkdHyFO5fhG"
      },
      "source": [
        "# List of column names to clean\n",
        "cols_to_clean = df_avocado[[\"Date\", \"AveragePrice\", \"Total_Volume\", \"Total_Bags\", \"Small_Bags\", \"Large_Bags\", \"XLarge_Bags\"]]"
      ],
      "execution_count": 9,
      "outputs": []
    },
    {
      "cell_type": "code",
      "metadata": {
        "id": "KVxDoEB4s2Of"
      },
      "source": [
        "# List of characters to remove\n",
        "chars_to_remove = ['+', ',','$']"
      ],
      "execution_count": 10,
      "outputs": []
    },
    {
      "cell_type": "code",
      "metadata": {
        "id": "oiMvT1V6bNls"
      },
      "source": [
        "# List of column names to clean\n",
        "#cols_to_clean = ['Installs', 'Price']   "
      ],
      "execution_count": 11,
      "outputs": []
    },
    {
      "cell_type": "code",
      "metadata": {
        "id": "8VaBYLbjtHis",
        "colab": {
          "base_uri": "https://localhost:8080/",
          "height": 55
        },
        "outputId": "682edcab-b606-4455-e146-b6a072099bf5"
      },
      "source": [
        "# Loop for each column in cols_to_clean\n",
        "\"\"\"for col in cols_to_clean:\n",
        "    # Loop for each char in chars_to_remove\n",
        "    for char in chars_to_remove:\n",
        "        # Replace the character with an empty string\n",
        "        apps[col] = apps[col].apply(lambda x: x.replace(char, ''))\"\"\""
      ],
      "execution_count": 12,
      "outputs": [
        {
          "output_type": "execute_result",
          "data": {
            "application/vnd.google.colaboratory.intrinsic+json": {
              "type": "string"
            },
            "text/plain": [
              "\"for col in cols_to_clean:\\n    # Loop for each char in chars_to_remove\\n    for char in chars_to_remove:\\n        # Replace the character with an empty string\\n        apps[col] = apps[col].apply(lambda x: x.replace(char, ''))\""
            ]
          },
          "metadata": {},
          "execution_count": 12
        }
      ]
    },
    {
      "cell_type": "code",
      "metadata": {
        "id": "d_oNQMuTuKDA"
      },
      "source": [
        "# Loop for each column in cols_to_clean\n",
        "for col in cols_to_clean:\n",
        "    # Loop for each char in chars_to_remove\n",
        "    for char in chars_to_remove:\n",
        "        # Replace the character with an empty string\n",
        "        cols_to_clean = cols_to_clean.apply(lambda x: x.replace(char, 'NA'))"
      ],
      "execution_count": 13,
      "outputs": []
    },
    {
      "cell_type": "code",
      "metadata": {
        "colab": {
          "base_uri": "https://localhost:8080/"
        },
        "id": "aDqURAY0unnG",
        "outputId": "6719aa2b-3c9f-4435-d1d5-7a9acba97eea"
      },
      "source": [
        "type(cols_to_clean)"
      ],
      "execution_count": 14,
      "outputs": [
        {
          "output_type": "execute_result",
          "data": {
            "text/plain": [
              "pandas.core.frame.DataFrame"
            ]
          },
          "metadata": {},
          "execution_count": 14
        }
      ]
    },
    {
      "cell_type": "code",
      "metadata": {
        "colab": {
          "base_uri": "https://localhost:8080/",
          "height": 328
        },
        "id": "KAtWC53nutKO",
        "outputId": "d4cd17a9-8e61-4170-e554-d5d35f5dd643"
      },
      "source": [
        "cols_to_clean.head(9)"
      ],
      "execution_count": 15,
      "outputs": [
        {
          "output_type": "execute_result",
          "data": {
            "text/html": [
              "<div>\n",
              "<style scoped>\n",
              "    .dataframe tbody tr th:only-of-type {\n",
              "        vertical-align: middle;\n",
              "    }\n",
              "\n",
              "    .dataframe tbody tr th {\n",
              "        vertical-align: top;\n",
              "    }\n",
              "\n",
              "    .dataframe thead th {\n",
              "        text-align: right;\n",
              "    }\n",
              "</style>\n",
              "<table border=\"1\" class=\"dataframe\">\n",
              "  <thead>\n",
              "    <tr style=\"text-align: right;\">\n",
              "      <th></th>\n",
              "      <th>Date</th>\n",
              "      <th>AveragePrice</th>\n",
              "      <th>Total_Volume</th>\n",
              "      <th>Total_Bags</th>\n",
              "      <th>Small_Bags</th>\n",
              "      <th>Large_Bags</th>\n",
              "      <th>XLarge_Bags</th>\n",
              "    </tr>\n",
              "  </thead>\n",
              "  <tbody>\n",
              "    <tr>\n",
              "      <th>0</th>\n",
              "      <td>2015-12-27</td>\n",
              "      <td>1.33</td>\n",
              "      <td>64236.62</td>\n",
              "      <td>8696.87</td>\n",
              "      <td>8603.62</td>\n",
              "      <td>93.25</td>\n",
              "      <td>0.0</td>\n",
              "    </tr>\n",
              "    <tr>\n",
              "      <th>1</th>\n",
              "      <td>2015-12-20</td>\n",
              "      <td>1.35</td>\n",
              "      <td>54876.98</td>\n",
              "      <td>9505.56</td>\n",
              "      <td>9408.07</td>\n",
              "      <td>97.49</td>\n",
              "      <td>0.0</td>\n",
              "    </tr>\n",
              "    <tr>\n",
              "      <th>2</th>\n",
              "      <td>2015-12-13</td>\n",
              "      <td>0.93</td>\n",
              "      <td>118220.22</td>\n",
              "      <td>8145.35</td>\n",
              "      <td>8042.21</td>\n",
              "      <td>103.14</td>\n",
              "      <td>0.0</td>\n",
              "    </tr>\n",
              "    <tr>\n",
              "      <th>3</th>\n",
              "      <td>2015-12-06</td>\n",
              "      <td>1.08</td>\n",
              "      <td>78992.15</td>\n",
              "      <td>5811.16</td>\n",
              "      <td>5677.40</td>\n",
              "      <td>133.76</td>\n",
              "      <td>0.0</td>\n",
              "    </tr>\n",
              "    <tr>\n",
              "      <th>4</th>\n",
              "      <td>2015-11-29</td>\n",
              "      <td>1.28</td>\n",
              "      <td>51039.60</td>\n",
              "      <td>6183.95</td>\n",
              "      <td>5986.26</td>\n",
              "      <td>197.69</td>\n",
              "      <td>0.0</td>\n",
              "    </tr>\n",
              "    <tr>\n",
              "      <th>5</th>\n",
              "      <td>2015-11-22</td>\n",
              "      <td>1.26</td>\n",
              "      <td>55979.78</td>\n",
              "      <td>6683.91</td>\n",
              "      <td>6556.47</td>\n",
              "      <td>127.44</td>\n",
              "      <td>0.0</td>\n",
              "    </tr>\n",
              "    <tr>\n",
              "      <th>6</th>\n",
              "      <td>2015-11-15</td>\n",
              "      <td>0.99</td>\n",
              "      <td>83453.76</td>\n",
              "      <td>8318.86</td>\n",
              "      <td>8196.81</td>\n",
              "      <td>122.05</td>\n",
              "      <td>0.0</td>\n",
              "    </tr>\n",
              "    <tr>\n",
              "      <th>7</th>\n",
              "      <td>2015-11-08</td>\n",
              "      <td>0.98</td>\n",
              "      <td>109428.33</td>\n",
              "      <td>6829.22</td>\n",
              "      <td>6266.85</td>\n",
              "      <td>562.37</td>\n",
              "      <td>0.0</td>\n",
              "    </tr>\n",
              "    <tr>\n",
              "      <th>8</th>\n",
              "      <td>2015-11-01</td>\n",
              "      <td>1.02</td>\n",
              "      <td>99811.42</td>\n",
              "      <td>11388.36</td>\n",
              "      <td>11104.53</td>\n",
              "      <td>283.83</td>\n",
              "      <td>0.0</td>\n",
              "    </tr>\n",
              "  </tbody>\n",
              "</table>\n",
              "</div>"
            ],
            "text/plain": [
              "         Date  AveragePrice  Total_Volume  ...  Small_Bags  Large_Bags  XLarge_Bags\n",
              "0  2015-12-27          1.33      64236.62  ...     8603.62       93.25          0.0\n",
              "1  2015-12-20          1.35      54876.98  ...     9408.07       97.49          0.0\n",
              "2  2015-12-13          0.93     118220.22  ...     8042.21      103.14          0.0\n",
              "3  2015-12-06          1.08      78992.15  ...     5677.40      133.76          0.0\n",
              "4  2015-11-29          1.28      51039.60  ...     5986.26      197.69          0.0\n",
              "5  2015-11-22          1.26      55979.78  ...     6556.47      127.44          0.0\n",
              "6  2015-11-15          0.99      83453.76  ...     8196.81      122.05          0.0\n",
              "7  2015-11-08          0.98     109428.33  ...     6266.85      562.37          0.0\n",
              "8  2015-11-01          1.02      99811.42  ...    11104.53      283.83          0.0\n",
              "\n",
              "[9 rows x 7 columns]"
            ]
          },
          "metadata": {},
          "execution_count": 15
        }
      ]
    },
    {
      "cell_type": "code",
      "metadata": {
        "id": "1nqDE8as8KZZ",
        "outputId": "77d430c1-8643-4cac-f9cd-6e691805316f",
        "colab": {
          "base_uri": "https://localhost:8080/",
          "height": 38
        }
      },
      "source": [
        "\"\"\"#Detection of NA\n",
        "#import pandas as pd\n",
        "x = float(\"nan\")\n",
        "print(f\"It's pd.isna  : {pd.isna(x)}\")\"\"\""
      ],
      "execution_count": 16,
      "outputs": [
        {
          "output_type": "execute_result",
          "data": {
            "application/vnd.google.colaboratory.intrinsic+json": {
              "type": "string"
            },
            "text/plain": [
              "'#Detection of NA\\n#import pandas as pd\\nx = float(\"nan\")\\nprint(f\"It\\'s pd.isna  : {pd.isna(x)}\")'"
            ]
          },
          "metadata": {},
          "execution_count": 16
        }
      ]
    },
    {
      "cell_type": "code",
      "metadata": {
        "colab": {
          "base_uri": "https://localhost:8080/"
        },
        "id": "nnZFI88UxM1_",
        "outputId": "f8a9ec6d-5e5a-4b40-cf4c-6efc7458d009"
      },
      "source": [
        "#Para comprobar que si hay o no valores NA\n",
        "#https://stackoverflow.com/questions/29530232/how-to-check-if-any-value-is-nan-in-a-pandas-dataframe\n",
        "\n",
        "cols_to_clean.isnull().values.any()"
      ],
      "execution_count": 17,
      "outputs": [
        {
          "output_type": "execute_result",
          "data": {
            "text/plain": [
              "False"
            ]
          },
          "metadata": {},
          "execution_count": 17
        }
      ]
    },
    {
      "cell_type": "markdown",
      "metadata": {
        "id": "ZubuTe5zzC-1"
      },
      "source": [
        "No hay NA presentes en el dataset"
      ]
    },
    {
      "cell_type": "code",
      "metadata": {
        "id": "wFf0cbLuxyEd",
        "outputId": "3f806ff2-0fef-4ba7-80a6-0e76c0f18346",
        "colab": {
          "base_uri": "https://localhost:8080/",
          "height": 55
        }
      },
      "source": [
        "#Con este ejemplo se confirma que el código anterior funciona\n",
        "\"\"\"import numpy as np\n",
        "\n",
        "df = pd.DataFrame(dict(age=[5, 6, np.NaN],\n",
        "                   born=[pd.NaT, pd.Timestamp('1939-05-27'),\n",
        "                         pd.Timestamp('1940-04-25')],\n",
        "                   name=['Alfred', 'Batman', ''],\n",
        "                   toy=[None, 'Batmobile', 'Joker']))\"\"\""
      ],
      "execution_count": 18,
      "outputs": [
        {
          "output_type": "execute_result",
          "data": {
            "application/vnd.google.colaboratory.intrinsic+json": {
              "type": "string"
            },
            "text/plain": [
              "\"import numpy as np\\n\\ndf = pd.DataFrame(dict(age=[5, 6, np.NaN],\\n                   born=[pd.NaT, pd.Timestamp('1939-05-27'),\\n                         pd.Timestamp('1940-04-25')],\\n                   name=['Alfred', 'Batman', ''],\\n                   toy=[None, 'Batmobile', 'Joker']))\""
            ]
          },
          "metadata": {},
          "execution_count": 18
        }
      ]
    },
    {
      "cell_type": "code",
      "metadata": {
        "id": "3z4xMbeUyB6W",
        "outputId": "f60fd2cd-b8ec-48d8-d6d5-4a3d56d13a95",
        "colab": {
          "base_uri": "https://localhost:8080/",
          "height": 38
        }
      },
      "source": [
        "\"\"\"df.isnull().values.any()\"\"\""
      ],
      "execution_count": 19,
      "outputs": [
        {
          "output_type": "execute_result",
          "data": {
            "application/vnd.google.colaboratory.intrinsic+json": {
              "type": "string"
            },
            "text/plain": [
              "'df.isnull().values.any()'"
            ]
          },
          "metadata": {},
          "execution_count": 19
        }
      ]
    },
    {
      "cell_type": "code",
      "metadata": {
        "id": "b1AteIiIDgDy",
        "outputId": "e8d2e4a0-6241-44b5-d65f-b0c83dbe69e5",
        "colab": {
          "base_uri": "https://localhost:8080/",
          "height": 38
        }
      },
      "source": [
        "\"\"\"df.head()\"\"\""
      ],
      "execution_count": 20,
      "outputs": [
        {
          "output_type": "execute_result",
          "data": {
            "application/vnd.google.colaboratory.intrinsic+json": {
              "type": "string"
            },
            "text/plain": [
              "'df.head()'"
            ]
          },
          "metadata": {},
          "execution_count": 20
        }
      ]
    },
    {
      "cell_type": "code",
      "metadata": {
        "id": "nbtzmMZe4kvI",
        "outputId": "34e8772b-0b5c-43a7-fdb1-cc4b5e2c421e",
        "colab": {
          "base_uri": "https://localhost:8080/",
          "height": 38
        }
      },
      "source": [
        "\"\"\"df[\"4046\"]\"\"\""
      ],
      "execution_count": 21,
      "outputs": [
        {
          "output_type": "execute_result",
          "data": {
            "application/vnd.google.colaboratory.intrinsic+json": {
              "type": "string"
            },
            "text/plain": [
              "'df[\"4046\"]'"
            ]
          },
          "metadata": {},
          "execution_count": 21
        }
      ]
    },
    {
      "cell_type": "markdown",
      "metadata": {
        "id": "r9J_Sfh6qC3G"
      },
      "source": [
        "**Exploring categories variables**\n"
      ]
    },
    {
      "cell_type": "code",
      "metadata": {
        "id": "K2Du6Dwcb8lg"
      },
      "source": [
        "import matplotlib.pyplot as plt\n",
        "        "
      ],
      "execution_count": 22,
      "outputs": []
    },
    {
      "cell_type": "code",
      "metadata": {
        "id": "L4KZopzEkbwD",
        "colab": {
          "base_uri": "https://localhost:8080/"
        },
        "outputId": "a8ab623d-992f-432f-d39e-ac1a4ebcf813"
      },
      "source": [
        "# Print the total number of unique categories type \n",
        "num_categories_type = len(df_avocado['type'].unique())\n",
        "num_categories_region = len(df_avocado['region'].unique())\n",
        "\n",
        "print('Number of categories from type variable = ', num_categories_type)\n",
        "print('Number of categories from region variable = ', num_categories_region)\n"
      ],
      "execution_count": 23,
      "outputs": [
        {
          "output_type": "stream",
          "name": "stdout",
          "text": [
            "Number of categories from type variable =  2\n",
            "Number of categories from region variable =  54\n"
          ]
        }
      ]
    },
    {
      "cell_type": "code",
      "metadata": {
        "id": "xZg0fBTakiOw",
        "colab": {
          "base_uri": "https://localhost:8080/"
        },
        "outputId": "7da83859-5f1c-4480-ec14-576c475b91f0"
      },
      "source": [
        "# Count the number of avocado in each 'Type'. \n",
        "num_type_avocado = df_avocado['type'].value_counts()\n",
        "num_type_avocado"
      ],
      "execution_count": 24,
      "outputs": [
        {
          "output_type": "execute_result",
          "data": {
            "text/plain": [
              "conventional    9126\n",
              "organic         9123\n",
              "Name: type, dtype: int64"
            ]
          },
          "metadata": {},
          "execution_count": 24
        }
      ]
    },
    {
      "cell_type": "code",
      "metadata": {
        "id": "p2rpdFTMramP",
        "colab": {
          "base_uri": "https://localhost:8080/"
        },
        "outputId": "43c676dd-d72c-4bbe-97a6-b6d4f2946d8e"
      },
      "source": [
        "# Sort num_type_avocado in descending order based on the count of apps in each category\n",
        "sorted_num_type_avocado = num_type_avocado.sort_values(ascending = False)\n",
        "\n",
        "sorted_num_type_avocado\n"
      ],
      "execution_count": 25,
      "outputs": [
        {
          "output_type": "execute_result",
          "data": {
            "text/plain": [
              "conventional    9126\n",
              "organic         9123\n",
              "Name: type, dtype: int64"
            ]
          },
          "metadata": {},
          "execution_count": 25
        }
      ]
    },
    {
      "cell_type": "code",
      "metadata": {
        "id": "cRjlE0rzrduw",
        "colab": {
          "base_uri": "https://localhost:8080/",
          "height": 371
        },
        "outputId": "4d2421db-c97b-4481-eeab-897e251f26ce"
      },
      "source": [
        "sorted_num_type_avocado.plot(kind=\"bar\",x = num_type_avocado.index,y = num_type_avocado.values)\n",
        "plt.show()\n",
        "sorted_num_type_avocado.value_counts()"
      ],
      "execution_count": 26,
      "outputs": [
        {
          "output_type": "display_data",
          "data": {
            "image/png": "[encoded data removed]",
            "text/plain": [
              "<Figure size 432x288 with 1 Axes>"
            ]
          },
          "metadata": {
            "needs_background": "light"
          }
        },
        {
          "output_type": "execute_result",
          "data": {
            "text/plain": [
              "9123    1\n",
              "9126    1\n",
              "Name: type, dtype: int64"
            ]
          },
          "metadata": {},
          "execution_count": 26
        }
      ]
    },
    {
      "cell_type": "markdown",
      "metadata": {
        "id": "lIHV3_CGzPWk"
      },
      "source": [
        "#**Insight from the data**\n",
        "#1- Which is the most productive region?\n",
        "#2- Which is the most productive type of vegetable?\n"
      ]
    },
    {
      "cell_type": "markdown",
      "metadata": {
        "id": "ZniboPYQtC4L"
      },
      "source": [
        "1- Which is the most productive region"
      ]
    },
    {
      "cell_type": "code",
      "metadata": {
        "id": "_CwCWVXsrj-K",
        "colab": {
          "base_uri": "https://localhost:8080/",
          "height": 419
        },
        "outputId": "f851430b-d6dd-4325-dfe4-52e72cc157cc"
      },
      "source": [
        "df_avocado[[\"region\",\"Total_Volume\",\"AveragePrice\"]]"
      ],
      "execution_count": 28,
      "outputs": [
        {
          "output_type": "execute_result",
          "data": {
            "text/html": [
              "<div>\n",
              "<style scoped>\n",
              "    .dataframe tbody tr th:only-of-type {\n",
              "        vertical-align: middle;\n",
              "    }\n",
              "\n",
              "    .dataframe tbody tr th {\n",
              "        vertical-align: top;\n",
              "    }\n",
              "\n",
              "    .dataframe thead th {\n",
              "        text-align: right;\n",
              "    }\n",
              "</style>\n",
              "<table border=\"1\" class=\"dataframe\">\n",
              "  <thead>\n",
              "    <tr style=\"text-align: right;\">\n",
              "      <th></th>\n",
              "      <th>region</th>\n",
              "      <th>Total_Volume</th>\n",
              "      <th>AveragePrice</th>\n",
              "    </tr>\n",
              "  </thead>\n",
              "  <tbody>\n",
              "    <tr>\n",
              "      <th>0</th>\n",
              "      <td>Albany</td>\n",
              "      <td>64236.62</td>\n",
              "      <td>1.33</td>\n",
              "    </tr>\n",
              "    <tr>\n",
              "      <th>1</th>\n",
              "      <td>Albany</td>\n",
              "      <td>54876.98</td>\n",
              "      <td>1.35</td>\n",
              "    </tr>\n",
              "    <tr>\n",
              "      <th>2</th>\n",
              "      <td>Albany</td>\n",
              "      <td>118220.22</td>\n",
              "      <td>0.93</td>\n",
              "    </tr>\n",
              "    <tr>\n",
              "      <th>3</th>\n",
              "      <td>Albany</td>\n",
              "      <td>78992.15</td>\n",
              "      <td>1.08</td>\n",
              "    </tr>\n",
              "    <tr>\n",
              "      <th>4</th>\n",
              "      <td>Albany</td>\n",
              "      <td>51039.60</td>\n",
              "      <td>1.28</td>\n",
              "    </tr>\n",
              "    <tr>\n",
              "      <th>...</th>\n",
              "      <td>...</td>\n",
              "      <td>...</td>\n",
              "      <td>...</td>\n",
              "    </tr>\n",
              "    <tr>\n",
              "      <th>18244</th>\n",
              "      <td>WestTexNewMexico</td>\n",
              "      <td>17074.83</td>\n",
              "      <td>1.63</td>\n",
              "    </tr>\n",
              "    <tr>\n",
              "      <th>18245</th>\n",
              "      <td>WestTexNewMexico</td>\n",
              "      <td>13888.04</td>\n",
              "      <td>1.71</td>\n",
              "    </tr>\n",
              "    <tr>\n",
              "      <th>18246</th>\n",
              "      <td>WestTexNewMexico</td>\n",
              "      <td>13766.76</td>\n",
              "      <td>1.87</td>\n",
              "    </tr>\n",
              "    <tr>\n",
              "      <th>18247</th>\n",
              "      <td>WestTexNewMexico</td>\n",
              "      <td>16205.22</td>\n",
              "      <td>1.93</td>\n",
              "    </tr>\n",
              "    <tr>\n",
              "      <th>18248</th>\n",
              "      <td>WestTexNewMexico</td>\n",
              "      <td>17489.58</td>\n",
              "      <td>1.62</td>\n",
              "    </tr>\n",
              "  </tbody>\n",
              "</table>\n",
              "<p>18249 rows × 3 columns</p>\n",
              "</div>"
            ],
            "text/plain": [
              "                 region  Total_Volume  AveragePrice\n",
              "0                Albany      64236.62          1.33\n",
              "1                Albany      54876.98          1.35\n",
              "2                Albany     118220.22          0.93\n",
              "3                Albany      78992.15          1.08\n",
              "4                Albany      51039.60          1.28\n",
              "...                 ...           ...           ...\n",
              "18244  WestTexNewMexico      17074.83          1.63\n",
              "18245  WestTexNewMexico      13888.04          1.71\n",
              "18246  WestTexNewMexico      13766.76          1.87\n",
              "18247  WestTexNewMexico      16205.22          1.93\n",
              "18248  WestTexNewMexico      17489.58          1.62\n",
              "\n",
              "[18249 rows x 3 columns]"
            ]
          },
          "metadata": {},
          "execution_count": 28
        }
      ]
    },
    {
      "cell_type": "code",
      "metadata": {
        "id": "S9TvjDhPg0eD",
        "colab": {
          "base_uri": "https://localhost:8080/"
        },
        "outputId": "20f35404-aeea-4db3-fdec-f0934ae55870"
      },
      "source": [
        "#Esto no funciona, representa solo los mas abundantes de cada campo\n",
        "df_avocado[[\"region\",\"Total_Volume\",\"AveragePrice\"]].max()"
      ],
      "execution_count": 29,
      "outputs": [
        {
          "output_type": "execute_result",
          "data": {
            "text/plain": [
              "region          WestTexNewMexico\n",
              "Total_Volume         6.25056e+07\n",
              "AveragePrice                3.25\n",
              "dtype: object"
            ]
          },
          "metadata": {},
          "execution_count": 29
        }
      ]
    },
    {
      "cell_type": "code",
      "metadata": {
        "id": "mb2g8bmj5Gce",
        "outputId": "9c519c9f-b2ae-4fa8-e422-28893b75b132",
        "colab": {
          "base_uri": "https://localhost:8080/"
        }
      },
      "source": [
        "df_avocado_filter= df_avocado.groupby(\"region\")[\"AveragePrice\",\"Total_Volume\"].max()"
      ],
      "execution_count": 79,
      "outputs": [
        {
          "output_type": "stream",
          "name": "stderr",
          "text": [
            "/usr/local/lib/python3.7/dist-packages/ipykernel_launcher.py:1: FutureWarning: Indexing with multiple keys (implicitly converted to a tuple of keys) will be deprecated, use a list instead.\n",
            "  \"\"\"Entry point for launching an IPython kernel.\n"
          ]
        }
      ]
    },
    {
      "cell_type": "code",
      "metadata": {
        "id": "qzVYtH0X8ewY",
        "outputId": "075abd6d-46a9-4fbc-e2b9-14f8eaa26bb7",
        "colab": {
          "base_uri": "https://localhost:8080/"
        }
      },
      "source": [
        "type(df_avocado_filter)"
      ],
      "execution_count": 80,
      "outputs": [
        {
          "output_type": "execute_result",
          "data": {
            "text/plain": [
              "pandas.core.frame.DataFrame"
            ]
          },
          "metadata": {},
          "execution_count": 80
        }
      ]
    },
    {
      "cell_type": "markdown",
      "metadata": {
        "id": "wz0sN9Kc-KeP"
      },
      "source": [
        "#The most productive state from US is West"
      ]
    },
    {
      "cell_type": "code",
      "metadata": {
        "id": "43SGNbO18m27"
      },
      "source": [
        "Total_Volume = df_avocado_filter.sort_values(by=['Total_Volume'], ascending=False)"
      ],
      "execution_count": 97,
      "outputs": []
    },
    {
      "cell_type": "code",
      "metadata": {
        "id": "1YHwXLW9A4iK"
      },
      "source": [
        "print(Total_Volume)"
      ],
      "execution_count": null,
      "outputs": []
    },
    {
      "cell_type": "code",
      "metadata": {
        "id": "1VmfwaFS_st-",
        "outputId": "db943241-0d3d-4e23-dabd-ec9bc36f5b48",
        "colab": {
          "base_uri": "https://localhost:8080/"
        }
      },
      "source": [
        "print(Total_Volume[1:2])"
      ],
      "execution_count": 96,
      "outputs": [
        {
          "output_type": "stream",
          "name": "stdout",
          "text": [
            "        AveragePrice  Total_Volume\n",
            "region                            \n",
            "West            2.52   11274749.11\n"
          ]
        }
      ]
    },
    {
      "cell_type": "markdown",
      "metadata": {
        "id": "3OhNWJomBOS2"
      },
      "source": [
        "#The most rentable region is San_Francisco"
      ]
    },
    {
      "cell_type": "code",
      "metadata": {
        "id": "4gSJ3iKR9ii6",
        "outputId": "27d1b66e-efaa-4efa-f636-799e17476ea1",
        "colab": {
          "base_uri": "https://localhost:8080/",
          "height": 1000
        }
      },
      "source": [
        "df_avocado_filter.sort_values(by=['AveragePrice'], ascending=False)"
      ],
      "execution_count": 84,
      "outputs": [
        {
          "output_type": "execute_result",
          "data": {
            "text/html": [
              "<div>\n",
              "<style scoped>\n",
              "    .dataframe tbody tr th:only-of-type {\n",
              "        vertical-align: middle;\n",
              "    }\n",
              "\n",
              "    .dataframe tbody tr th {\n",
              "        vertical-align: top;\n",
              "    }\n",
              "\n",
              "    .dataframe thead th {\n",
              "        text-align: right;\n",
              "    }\n",
              "</style>\n",
              "<table border=\"1\" class=\"dataframe\">\n",
              "  <thead>\n",
              "    <tr style=\"text-align: right;\">\n",
              "      <th></th>\n",
              "      <th>AveragePrice</th>\n",
              "      <th>Total_Volume</th>\n",
              "    </tr>\n",
              "    <tr>\n",
              "      <th>region</th>\n",
              "      <th></th>\n",
              "      <th></th>\n",
              "    </tr>\n",
              "  </thead>\n",
              "  <tbody>\n",
              "    <tr>\n",
              "      <th>SanFrancisco</th>\n",
              "      <td>3.25</td>\n",
              "      <td>1706251.05</td>\n",
              "    </tr>\n",
              "    <tr>\n",
              "      <th>Tampa</th>\n",
              "      <td>3.17</td>\n",
              "      <td>893143.94</td>\n",
              "    </tr>\n",
              "    <tr>\n",
              "      <th>MiamiFtLauderdale</th>\n",
              "      <td>3.05</td>\n",
              "      <td>1310671.51</td>\n",
              "    </tr>\n",
              "    <tr>\n",
              "      <th>RaleighGreensboro</th>\n",
              "      <td>3.04</td>\n",
              "      <td>552900.21</td>\n",
              "    </tr>\n",
              "    <tr>\n",
              "      <th>LasVegas</th>\n",
              "      <td>3.03</td>\n",
              "      <td>680234.93</td>\n",
              "    </tr>\n",
              "    <tr>\n",
              "      <th>Jacksonville</th>\n",
              "      <td>2.99</td>\n",
              "      <td>398543.91</td>\n",
              "    </tr>\n",
              "    <tr>\n",
              "      <th>Seattle</th>\n",
              "      <td>2.96</td>\n",
              "      <td>1093144.23</td>\n",
              "    </tr>\n",
              "    <tr>\n",
              "      <th>Spokane</th>\n",
              "      <td>2.95</td>\n",
              "      <td>165785.94</td>\n",
              "    </tr>\n",
              "    <tr>\n",
              "      <th>WestTexNewMexico</th>\n",
              "      <td>2.93</td>\n",
              "      <td>1637554.42</td>\n",
              "    </tr>\n",
              "    <tr>\n",
              "      <th>Orlando</th>\n",
              "      <td>2.87</td>\n",
              "      <td>759532.37</td>\n",
              "    </tr>\n",
              "    <tr>\n",
              "      <th>Portland</th>\n",
              "      <td>2.86</td>\n",
              "      <td>1189151.17</td>\n",
              "    </tr>\n",
              "    <tr>\n",
              "      <th>StLouis</th>\n",
              "      <td>2.84</td>\n",
              "      <td>348135.49</td>\n",
              "    </tr>\n",
              "    <tr>\n",
              "      <th>Charlotte</th>\n",
              "      <td>2.83</td>\n",
              "      <td>411160.94</td>\n",
              "    </tr>\n",
              "    <tr>\n",
              "      <th>Sacramento</th>\n",
              "      <td>2.82</td>\n",
              "      <td>862337.10</td>\n",
              "    </tr>\n",
              "    <tr>\n",
              "      <th>Boise</th>\n",
              "      <td>2.79</td>\n",
              "      <td>136377.55</td>\n",
              "    </tr>\n",
              "    <tr>\n",
              "      <th>Atlanta</th>\n",
              "      <td>2.75</td>\n",
              "      <td>957792.07</td>\n",
              "    </tr>\n",
              "    <tr>\n",
              "      <th>SanDiego</th>\n",
              "      <td>2.74</td>\n",
              "      <td>917660.79</td>\n",
              "    </tr>\n",
              "    <tr>\n",
              "      <th>GrandRapids</th>\n",
              "      <td>2.73</td>\n",
              "      <td>408921.57</td>\n",
              "    </tr>\n",
              "    <tr>\n",
              "      <th>HartfordSpringfield</th>\n",
              "      <td>2.68</td>\n",
              "      <td>522565.33</td>\n",
              "    </tr>\n",
              "    <tr>\n",
              "      <th>NewYork</th>\n",
              "      <td>2.65</td>\n",
              "      <td>2959541.38</td>\n",
              "    </tr>\n",
              "    <tr>\n",
              "      <th>PhoenixTucson</th>\n",
              "      <td>2.62</td>\n",
              "      <td>2200550.27</td>\n",
              "    </tr>\n",
              "    <tr>\n",
              "      <th>California</th>\n",
              "      <td>2.58</td>\n",
              "      <td>11213596.29</td>\n",
              "    </tr>\n",
              "    <tr>\n",
              "      <th>BuffaloRochester</th>\n",
              "      <td>2.57</td>\n",
              "      <td>201142.55</td>\n",
              "    </tr>\n",
              "    <tr>\n",
              "      <th>West</th>\n",
              "      <td>2.52</td>\n",
              "      <td>11274749.11</td>\n",
              "    </tr>\n",
              "    <tr>\n",
              "      <th>Philadelphia</th>\n",
              "      <td>2.45</td>\n",
              "      <td>819224.30</td>\n",
              "    </tr>\n",
              "    <tr>\n",
              "      <th>Syracuse</th>\n",
              "      <td>2.44</td>\n",
              "      <td>113023.35</td>\n",
              "    </tr>\n",
              "    <tr>\n",
              "      <th>LosAngeles</th>\n",
              "      <td>2.44</td>\n",
              "      <td>5470227.08</td>\n",
              "    </tr>\n",
              "    <tr>\n",
              "      <th>Southeast</th>\n",
              "      <td>2.33</td>\n",
              "      <td>7545938.97</td>\n",
              "    </tr>\n",
              "    <tr>\n",
              "      <th>NewOrleansMobile</th>\n",
              "      <td>2.32</td>\n",
              "      <td>633235.06</td>\n",
              "    </tr>\n",
              "    <tr>\n",
              "      <th>Northeast</th>\n",
              "      <td>2.31</td>\n",
              "      <td>7508650.27</td>\n",
              "    </tr>\n",
              "    <tr>\n",
              "      <th>Chicago</th>\n",
              "      <td>2.30</td>\n",
              "      <td>1802646.35</td>\n",
              "    </tr>\n",
              "    <tr>\n",
              "      <th>Louisville</th>\n",
              "      <td>2.29</td>\n",
              "      <td>169828.77</td>\n",
              "    </tr>\n",
              "    <tr>\n",
              "      <th>BaltimoreWashington</th>\n",
              "      <td>2.28</td>\n",
              "      <td>1225103.27</td>\n",
              "    </tr>\n",
              "    <tr>\n",
              "      <th>Roanoke</th>\n",
              "      <td>2.27</td>\n",
              "      <td>287728.25</td>\n",
              "    </tr>\n",
              "    <tr>\n",
              "      <th>HarrisburgScranton</th>\n",
              "      <td>2.27</td>\n",
              "      <td>395673.05</td>\n",
              "    </tr>\n",
              "    <tr>\n",
              "      <th>Nashville</th>\n",
              "      <td>2.24</td>\n",
              "      <td>391780.25</td>\n",
              "    </tr>\n",
              "    <tr>\n",
              "      <th>Columbus</th>\n",
              "      <td>2.22</td>\n",
              "      <td>333398.29</td>\n",
              "    </tr>\n",
              "    <tr>\n",
              "      <th>SouthCarolina</th>\n",
              "      <td>2.21</td>\n",
              "      <td>706098.15</td>\n",
              "    </tr>\n",
              "    <tr>\n",
              "      <th>CincinnatiDayton</th>\n",
              "      <td>2.20</td>\n",
              "      <td>538518.77</td>\n",
              "    </tr>\n",
              "    <tr>\n",
              "      <th>Boston</th>\n",
              "      <td>2.19</td>\n",
              "      <td>999783.13</td>\n",
              "    </tr>\n",
              "    <tr>\n",
              "      <th>Midsouth</th>\n",
              "      <td>2.17</td>\n",
              "      <td>5286412.87</td>\n",
              "    </tr>\n",
              "    <tr>\n",
              "      <th>Denver</th>\n",
              "      <td>2.16</td>\n",
              "      <td>1381528.74</td>\n",
              "    </tr>\n",
              "    <tr>\n",
              "      <th>Albany</th>\n",
              "      <td>2.13</td>\n",
              "      <td>216738.47</td>\n",
              "    </tr>\n",
              "    <tr>\n",
              "      <th>Plains</th>\n",
              "      <td>2.13</td>\n",
              "      <td>3575499.21</td>\n",
              "    </tr>\n",
              "    <tr>\n",
              "      <th>Indianapolis</th>\n",
              "      <td>2.10</td>\n",
              "      <td>335442.41</td>\n",
              "    </tr>\n",
              "    <tr>\n",
              "      <th>TotalUS</th>\n",
              "      <td>2.09</td>\n",
              "      <td>62505646.52</td>\n",
              "    </tr>\n",
              "    <tr>\n",
              "      <th>Detroit</th>\n",
              "      <td>2.08</td>\n",
              "      <td>880540.45</td>\n",
              "    </tr>\n",
              "    <tr>\n",
              "      <th>RichmondNorfolk</th>\n",
              "      <td>2.05</td>\n",
              "      <td>469093.71</td>\n",
              "    </tr>\n",
              "    <tr>\n",
              "      <th>GreatLakes</th>\n",
              "      <td>1.98</td>\n",
              "      <td>7094764.73</td>\n",
              "    </tr>\n",
              "    <tr>\n",
              "      <th>NorthernNewEngland</th>\n",
              "      <td>1.96</td>\n",
              "      <td>847261.25</td>\n",
              "    </tr>\n",
              "    <tr>\n",
              "      <th>Houston</th>\n",
              "      <td>1.92</td>\n",
              "      <td>2381742.59</td>\n",
              "    </tr>\n",
              "    <tr>\n",
              "      <th>DallasFtWorth</th>\n",
              "      <td>1.90</td>\n",
              "      <td>1885401.44</td>\n",
              "    </tr>\n",
              "    <tr>\n",
              "      <th>Pittsburgh</th>\n",
              "      <td>1.83</td>\n",
              "      <td>214738.04</td>\n",
              "    </tr>\n",
              "    <tr>\n",
              "      <th>SouthCentral</th>\n",
              "      <td>1.81</td>\n",
              "      <td>10323174.59</td>\n",
              "    </tr>\n",
              "  </tbody>\n",
              "</table>\n",
              "</div>"
            ],
            "text/plain": [
              "                     AveragePrice  Total_Volume\n",
              "region                                         \n",
              "SanFrancisco                 3.25    1706251.05\n",
              "Tampa                        3.17     893143.94\n",
              "MiamiFtLauderdale            3.05    1310671.51\n",
              "RaleighGreensboro            3.04     552900.21\n",
              "LasVegas                     3.03     680234.93\n",
              "Jacksonville                 2.99     398543.91\n",
              "Seattle                      2.96    1093144.23\n",
              "Spokane                      2.95     165785.94\n",
              "WestTexNewMexico             2.93    1637554.42\n",
              "Orlando                      2.87     759532.37\n",
              "Portland                     2.86    1189151.17\n",
              "StLouis                      2.84     348135.49\n",
              "Charlotte                    2.83     411160.94\n",
              "Sacramento                   2.82     862337.10\n",
              "Boise                        2.79     136377.55\n",
              "Atlanta                      2.75     957792.07\n",
              "SanDiego                     2.74     917660.79\n",
              "GrandRapids                  2.73     408921.57\n",
              "HartfordSpringfield          2.68     522565.33\n",
              "NewYork                      2.65    2959541.38\n",
              "PhoenixTucson                2.62    2200550.27\n",
              "California                   2.58   11213596.29\n",
              "BuffaloRochester             2.57     201142.55\n",
              "West                         2.52   11274749.11\n",
              "Philadelphia                 2.45     819224.30\n",
              "Syracuse                     2.44     113023.35\n",
              "LosAngeles                   2.44    5470227.08\n",
              "Southeast                    2.33    7545938.97\n",
              "NewOrleansMobile             2.32     633235.06\n",
              "Northeast                    2.31    7508650.27\n",
              "Chicago                      2.30    1802646.35\n",
              "Louisville                   2.29     169828.77\n",
              "BaltimoreWashington          2.28    1225103.27\n",
              "Roanoke                      2.27     287728.25\n",
              "HarrisburgScranton           2.27     395673.05\n",
              "Nashville                    2.24     391780.25\n",
              "Columbus                     2.22     333398.29\n",
              "SouthCarolina                2.21     706098.15\n",
              "CincinnatiDayton             2.20     538518.77\n",
              "Boston                       2.19     999783.13\n",
              "Midsouth                     2.17    5286412.87\n",
              "Denver                       2.16    1381528.74\n",
              "Albany                       2.13     216738.47\n",
              "Plains                       2.13    3575499.21\n",
              "Indianapolis                 2.10     335442.41\n",
              "TotalUS                      2.09   62505646.52\n",
              "Detroit                      2.08     880540.45\n",
              "RichmondNorfolk              2.05     469093.71\n",
              "GreatLakes                   1.98    7094764.73\n",
              "NorthernNewEngland           1.96     847261.25\n",
              "Houston                      1.92    2381742.59\n",
              "DallasFtWorth                1.90    1885401.44\n",
              "Pittsburgh                   1.83     214738.04\n",
              "SouthCentral                 1.81   10323174.59"
            ]
          },
          "metadata": {},
          "execution_count": 84
        }
      ]
    },
    {
      "cell_type": "markdown",
      "metadata": {
        "id": "2wW3WptWjMRB"
      },
      "source": [
        "#**Comprobación** \n",
        "Se realiza la comprobación de que la región mas productiva y rentable es  WestTexNewMexico y no lo es."
      ]
    },
    {
      "cell_type": "code",
      "metadata": {
        "id": "YX2gnaoVzOP9",
        "colab": {
          "base_uri": "https://localhost:8080/",
          "height": 419
        },
        "outputId": "8f8bed68-60fd-4806-fe72-534869f34936"
      },
      "source": [
        "df_avocado[df_avocado[\"region\"]== \"WestTexNewMexico\"]"
      ],
      "execution_count": 30,
      "outputs": [
        {
          "output_type": "execute_result",
          "data": {
            "text/html": [
              "<div>\n",
              "<style scoped>\n",
              "    .dataframe tbody tr th:only-of-type {\n",
              "        vertical-align: middle;\n",
              "    }\n",
              "\n",
              "    .dataframe tbody tr th {\n",
              "        vertical-align: top;\n",
              "    }\n",
              "\n",
              "    .dataframe thead th {\n",
              "        text-align: right;\n",
              "    }\n",
              "</style>\n",
              "<table border=\"1\" class=\"dataframe\">\n",
              "  <thead>\n",
              "    <tr style=\"text-align: right;\">\n",
              "      <th></th>\n",
              "      <th>Date</th>\n",
              "      <th>AveragePrice</th>\n",
              "      <th>Total_Volume</th>\n",
              "      <th>4046</th>\n",
              "      <th>4225</th>\n",
              "      <th>4770</th>\n",
              "      <th>Total_Bags</th>\n",
              "      <th>Small_Bags</th>\n",
              "      <th>Large_Bags</th>\n",
              "      <th>XLarge_Bags</th>\n",
              "      <th>type</th>\n",
              "      <th>year</th>\n",
              "      <th>region</th>\n",
              "    </tr>\n",
              "  </thead>\n",
              "  <tbody>\n",
              "    <tr>\n",
              "      <th>2756</th>\n",
              "      <td>2015-12-27</td>\n",
              "      <td>0.71</td>\n",
              "      <td>776404.39</td>\n",
              "      <td>451904.51</td>\n",
              "      <td>141599.36</td>\n",
              "      <td>15486.97</td>\n",
              "      <td>167413.55</td>\n",
              "      <td>123158.22</td>\n",
              "      <td>33065.33</td>\n",
              "      <td>11190.00</td>\n",
              "      <td>conventional</td>\n",
              "      <td>2015</td>\n",
              "      <td>WestTexNewMexico</td>\n",
              "    </tr>\n",
              "    <tr>\n",
              "      <th>2757</th>\n",
              "      <td>2015-12-20</td>\n",
              "      <td>0.83</td>\n",
              "      <td>649885.76</td>\n",
              "      <td>389110.55</td>\n",
              "      <td>108176.29</td>\n",
              "      <td>12953.59</td>\n",
              "      <td>139645.33</td>\n",
              "      <td>90392.86</td>\n",
              "      <td>23535.80</td>\n",
              "      <td>25716.67</td>\n",
              "      <td>conventional</td>\n",
              "      <td>2015</td>\n",
              "      <td>WestTexNewMexico</td>\n",
              "    </tr>\n",
              "    <tr>\n",
              "      <th>2758</th>\n",
              "      <td>2015-12-13</td>\n",
              "      <td>0.78</td>\n",
              "      <td>646041.56</td>\n",
              "      <td>437780.91</td>\n",
              "      <td>100110.13</td>\n",
              "      <td>13576.25</td>\n",
              "      <td>94574.27</td>\n",
              "      <td>83053.10</td>\n",
              "      <td>10947.84</td>\n",
              "      <td>573.33</td>\n",
              "      <td>conventional</td>\n",
              "      <td>2015</td>\n",
              "      <td>WestTexNewMexico</td>\n",
              "    </tr>\n",
              "    <tr>\n",
              "      <th>2759</th>\n",
              "      <td>2015-12-06</td>\n",
              "      <td>0.74</td>\n",
              "      <td>623231.77</td>\n",
              "      <td>398871.12</td>\n",
              "      <td>133434.18</td>\n",
              "      <td>21088.12</td>\n",
              "      <td>69838.35</td>\n",
              "      <td>68233.56</td>\n",
              "      <td>1604.79</td>\n",
              "      <td>0.00</td>\n",
              "      <td>conventional</td>\n",
              "      <td>2015</td>\n",
              "      <td>WestTexNewMexico</td>\n",
              "    </tr>\n",
              "    <tr>\n",
              "      <th>2760</th>\n",
              "      <td>2015-11-29</td>\n",
              "      <td>0.81</td>\n",
              "      <td>519028.45</td>\n",
              "      <td>335446.83</td>\n",
              "      <td>103635.94</td>\n",
              "      <td>11463.06</td>\n",
              "      <td>68482.62</td>\n",
              "      <td>67264.73</td>\n",
              "      <td>1217.89</td>\n",
              "      <td>0.00</td>\n",
              "      <td>conventional</td>\n",
              "      <td>2015</td>\n",
              "      <td>WestTexNewMexico</td>\n",
              "    </tr>\n",
              "    <tr>\n",
              "      <th>...</th>\n",
              "      <td>...</td>\n",
              "      <td>...</td>\n",
              "      <td>...</td>\n",
              "      <td>...</td>\n",
              "      <td>...</td>\n",
              "      <td>...</td>\n",
              "      <td>...</td>\n",
              "      <td>...</td>\n",
              "      <td>...</td>\n",
              "      <td>...</td>\n",
              "      <td>...</td>\n",
              "      <td>...</td>\n",
              "      <td>...</td>\n",
              "    </tr>\n",
              "    <tr>\n",
              "      <th>18244</th>\n",
              "      <td>2018-02-04</td>\n",
              "      <td>1.63</td>\n",
              "      <td>17074.83</td>\n",
              "      <td>2046.96</td>\n",
              "      <td>1529.20</td>\n",
              "      <td>0.00</td>\n",
              "      <td>13498.67</td>\n",
              "      <td>13066.82</td>\n",
              "      <td>431.85</td>\n",
              "      <td>0.00</td>\n",
              "      <td>organic</td>\n",
              "      <td>2018</td>\n",
              "      <td>WestTexNewMexico</td>\n",
              "    </tr>\n",
              "    <tr>\n",
              "      <th>18245</th>\n",
              "      <td>2018-01-28</td>\n",
              "      <td>1.71</td>\n",
              "      <td>13888.04</td>\n",
              "      <td>1191.70</td>\n",
              "      <td>3431.50</td>\n",
              "      <td>0.00</td>\n",
              "      <td>9264.84</td>\n",
              "      <td>8940.04</td>\n",
              "      <td>324.80</td>\n",
              "      <td>0.00</td>\n",
              "      <td>organic</td>\n",
              "      <td>2018</td>\n",
              "      <td>WestTexNewMexico</td>\n",
              "    </tr>\n",
              "    <tr>\n",
              "      <th>18246</th>\n",
              "      <td>2018-01-21</td>\n",
              "      <td>1.87</td>\n",
              "      <td>13766.76</td>\n",
              "      <td>1191.92</td>\n",
              "      <td>2452.79</td>\n",
              "      <td>727.94</td>\n",
              "      <td>9394.11</td>\n",
              "      <td>9351.80</td>\n",
              "      <td>42.31</td>\n",
              "      <td>0.00</td>\n",
              "      <td>organic</td>\n",
              "      <td>2018</td>\n",
              "      <td>WestTexNewMexico</td>\n",
              "    </tr>\n",
              "    <tr>\n",
              "      <th>18247</th>\n",
              "      <td>2018-01-14</td>\n",
              "      <td>1.93</td>\n",
              "      <td>16205.22</td>\n",
              "      <td>1527.63</td>\n",
              "      <td>2981.04</td>\n",
              "      <td>727.01</td>\n",
              "      <td>10969.54</td>\n",
              "      <td>10919.54</td>\n",
              "      <td>50.00</td>\n",
              "      <td>0.00</td>\n",
              "      <td>organic</td>\n",
              "      <td>2018</td>\n",
              "      <td>WestTexNewMexico</td>\n",
              "    </tr>\n",
              "    <tr>\n",
              "      <th>18248</th>\n",
              "      <td>2018-01-07</td>\n",
              "      <td>1.62</td>\n",
              "      <td>17489.58</td>\n",
              "      <td>2894.77</td>\n",
              "      <td>2356.13</td>\n",
              "      <td>224.53</td>\n",
              "      <td>12014.15</td>\n",
              "      <td>11988.14</td>\n",
              "      <td>26.01</td>\n",
              "      <td>0.00</td>\n",
              "      <td>organic</td>\n",
              "      <td>2018</td>\n",
              "      <td>WestTexNewMexico</td>\n",
              "    </tr>\n",
              "  </tbody>\n",
              "</table>\n",
              "<p>335 rows × 13 columns</p>\n",
              "</div>"
            ],
            "text/plain": [
              "             Date  AveragePrice  ...  year            region\n",
              "2756   2015-12-27          0.71  ...  2015  WestTexNewMexico\n",
              "2757   2015-12-20          0.83  ...  2015  WestTexNewMexico\n",
              "2758   2015-12-13          0.78  ...  2015  WestTexNewMexico\n",
              "2759   2015-12-06          0.74  ...  2015  WestTexNewMexico\n",
              "2760   2015-11-29          0.81  ...  2015  WestTexNewMexico\n",
              "...           ...           ...  ...   ...               ...\n",
              "18244  2018-02-04          1.63  ...  2018  WestTexNewMexico\n",
              "18245  2018-01-28          1.71  ...  2018  WestTexNewMexico\n",
              "18246  2018-01-21          1.87  ...  2018  WestTexNewMexico\n",
              "18247  2018-01-14          1.93  ...  2018  WestTexNewMexico\n",
              "18248  2018-01-07          1.62  ...  2018  WestTexNewMexico\n",
              "\n",
              "[335 rows x 13 columns]"
            ]
          },
          "metadata": {},
          "execution_count": 30
        }
      ]
    },
    {
      "cell_type": "code",
      "metadata": {
        "id": "UrkXuvtSilvi"
      },
      "source": [
        "WestTexNewMexico = df_avocado[df_avocado[\"region\"]== \"WestTexNewMexico\"]"
      ],
      "execution_count": 31,
      "outputs": []
    },
    {
      "cell_type": "code",
      "metadata": {
        "id": "mp9fMjfP6jHP",
        "outputId": "46a41cd9-b854-4ae5-8379-2849aab2e6e8",
        "colab": {
          "base_uri": "https://localhost:8080/"
        }
      },
      "source": [
        "df_avocado.groupby(\"region\")"
      ],
      "execution_count": 73,
      "outputs": [
        {
          "output_type": "execute_result",
          "data": {
            "text/plain": [
              "<pandas.core.groupby.generic.DataFrameGroupBy object at 0x7f7cbda5b990>"
            ]
          },
          "metadata": {},
          "execution_count": 73
        }
      ]
    },
    {
      "cell_type": "code",
      "metadata": {
        "id": "eS6mKpVGtBFG",
        "outputId": "69bc42b2-b0dc-4a7e-9c1d-33effb3f6115",
        "colab": {
          "base_uri": "https://localhost:8080/"
        }
      },
      "source": [
        "WestTexNewMexico[\"AveragePrice\"].max()"
      ],
      "execution_count": 40,
      "outputs": [
        {
          "output_type": "execute_result",
          "data": {
            "text/plain": [
              "2.93"
            ]
          },
          "metadata": {},
          "execution_count": 40
        }
      ]
    },
    {
      "cell_type": "code",
      "metadata": {
        "id": "0Ru6UMgmmgjb",
        "colab": {
          "base_uri": "https://localhost:8080/"
        },
        "outputId": "589a6625-3c74-4437-e5a2-5248f9f1b332"
      },
      "source": [
        "print(WestTexNewMexico)"
      ],
      "execution_count": 32,
      "outputs": [
        {
          "output_type": "stream",
          "name": "stdout",
          "text": [
            "             Date  AveragePrice  ...  year            region\n",
            "2756   2015-12-27          0.71  ...  2015  WestTexNewMexico\n",
            "2757   2015-12-20          0.83  ...  2015  WestTexNewMexico\n",
            "2758   2015-12-13          0.78  ...  2015  WestTexNewMexico\n",
            "2759   2015-12-06          0.74  ...  2015  WestTexNewMexico\n",
            "2760   2015-11-29          0.81  ...  2015  WestTexNewMexico\n",
            "...           ...           ...  ...   ...               ...\n",
            "18244  2018-02-04          1.63  ...  2018  WestTexNewMexico\n",
            "18245  2018-01-28          1.71  ...  2018  WestTexNewMexico\n",
            "18246  2018-01-21          1.87  ...  2018  WestTexNewMexico\n",
            "18247  2018-01-14          1.93  ...  2018  WestTexNewMexico\n",
            "18248  2018-01-07          1.62  ...  2018  WestTexNewMexico\n",
            "\n",
            "[335 rows x 13 columns]\n"
          ]
        }
      ]
    }
  ]
}