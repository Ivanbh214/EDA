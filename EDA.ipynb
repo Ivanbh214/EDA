{
  "nbformat": 4,
  "nbformat_minor": 0,
  "metadata": {
    "colab": {
      "name": "Untitled5.ipynb",
      "provenance": [],
      "mount_file_id": "https://github.com/Ivanbh214/EDA/blob/main/EDA.ipynb",
      "authorship_tag": "ABX9TyNCLIwf5P41i0PQSX19zj9h",
      "include_colab_link": true
    },
    "kernelspec": {
      "name": "python3",
      "display_name": "Python 3"
    },
    "language_info": {
      "name": "python"
    }
  },
  "cells": [
    {
      "cell_type": "markdown",
      "metadata": {
        "id": "view-in-github",
        "colab_type": "text"
      },
      "source": [
        "<a href=\"https://colab.research.google.com/github/Ivanbh214/EDA/blob/main/EDA.ipynb\" target=\"_parent\"><img src=\"https://colab.research.google.com/assets/colab-badge.svg\" alt=\"Open In Colab\"/></a>"
      ]
    },
    {
      "cell_type": "code",
      "metadata": {
        "id": "2BCyjyvSAdmQ"
      },
      "source": [
        "import pandas as pd"
      ],
      "execution_count": 2,
      "outputs": []
    },
    {
      "cell_type": "code",
      "metadata": {
        "id": "-W40bv9tNfdz"
      },
      "source": [
        "#Open the file in the github and copy the repository\n",
        "url = 'https://raw.githubusercontent.com/Ivanbh214/EDA/main/avocado.csv'\n",
        "df = pd.read_csv(url, sep=\",\", error_bad_lines=False)"
      ],
      "execution_count": 3,
      "outputs": []
    },
    {
      "cell_type": "code",
      "metadata": {
        "id": "zb6Ij462S6MW",
        "colab": {
          "base_uri": "https://localhost:8080/"
        },
        "outputId": "222f3b8a-0ad8-47dd-a7c6-27ff105b3d7c"
      },
      "source": [
        "print(df.head(5))"
      ],
      "execution_count": 4,
      "outputs": [
        {
          "output_type": "stream",
          "name": "stdout",
          "text": [
            "   Unnamed: 0        Date  AveragePrice  ...          type  year  region\n",
            "0           0  2015-12-27          1.33  ...  conventional  2015  Albany\n",
            "1           1  2015-12-20          1.35  ...  conventional  2015  Albany\n",
            "2           2  2015-12-13          0.93  ...  conventional  2015  Albany\n",
            "3           3  2015-12-06          1.08  ...  conventional  2015  Albany\n",
            "4           4  2015-11-29          1.28  ...  conventional  2015  Albany\n",
            "\n",
            "[5 rows x 14 columns]\n"
          ]
        }
      ]
    },
    {
      "cell_type": "code",
      "metadata": {
        "colab": {
          "base_uri": "https://localhost:8080/"
        },
        "id": "byjEoEQ2w2oy",
        "outputId": "594d1896-9713-4708-96b4-bcefe9e2875b"
      },
      "source": [
        "df.info()"
      ],
      "execution_count": 5,
      "outputs": [
        {
          "output_type": "stream",
          "name": "stdout",
          "text": [
            "<class 'pandas.core.frame.DataFrame'>\n",
            "RangeIndex: 18249 entries, 0 to 18248\n",
            "Data columns (total 14 columns):\n",
            " #   Column        Non-Null Count  Dtype  \n",
            "---  ------        --------------  -----  \n",
            " 0   Unnamed: 0    18249 non-null  int64  \n",
            " 1   Date          18249 non-null  object \n",
            " 2   AveragePrice  18249 non-null  float64\n",
            " 3   Total Volume  18249 non-null  float64\n",
            " 4   4046          18249 non-null  float64\n",
            " 5   4225          18249 non-null  float64\n",
            " 6   4770          18249 non-null  float64\n",
            " 7   Total Bags    18249 non-null  float64\n",
            " 8   Small Bags    18249 non-null  float64\n",
            " 9   Large Bags    18249 non-null  float64\n",
            " 10  XLarge Bags   18249 non-null  float64\n",
            " 11  type          18249 non-null  object \n",
            " 12  year          18249 non-null  int64  \n",
            " 13  region        18249 non-null  object \n",
            "dtypes: float64(9), int64(2), object(3)\n",
            "memory usage: 1.9+ MB\n"
          ]
        }
      ]
    },
    {
      "cell_type": "code",
      "metadata": {
        "colab": {
          "base_uri": "https://localhost:8080/"
        },
        "id": "j6NKjmoRw8Z5",
        "outputId": "93fd836d-b1b0-4d2a-df97-ce69e3f8cfd4"
      },
      "source": [
        "df.shape"
      ],
      "execution_count": 7,
      "outputs": [
        {
          "output_type": "execute_result",
          "data": {
            "text/plain": [
              "(18249, 14)"
            ]
          },
          "metadata": {},
          "execution_count": 7
        }
      ]
    },
    {
      "cell_type": "markdown",
      "metadata": {
        "id": "aF3Xq7Kh5BGn"
      },
      "source": [
        "We can see that 3 columns no have name, have numbers. So, this is have to be fix"
      ]
    },
    {
      "cell_type": "markdown",
      "metadata": {
        "id": "JCAj9wmFYioY"
      },
      "source": [
        "##Exploratory Data Analysis from avocado dataset\n",
        "1- Transform any character in interget ato NA \n",
        "\n",
        "*   Select the same type of variables\n",
        "\n",
        "*   Transform this character to NA\n",
        "\n",
        "\n",
        "2- Count the number of NA "
      ]
    },
    {
      "cell_type": "code",
      "metadata": {
        "colab": {
          "base_uri": "https://localhost:8080/"
        },
        "id": "sewn0Ums06CR",
        "outputId": "78e33882-2ad3-49a9-de2d-705b7525921d"
      },
      "source": [
        "df.columns"
      ],
      "execution_count": 13,
      "outputs": [
        {
          "output_type": "execute_result",
          "data": {
            "text/plain": [
              "Index(['Unnamed: 0', 'Date', 'AveragePrice', 'Total Volume', '4046', '4225',\n",
              "       '4770', 'Total Bags', 'Small Bags', 'Large Bags', 'XLarge Bags', 'type',\n",
              "       'year', 'region'],\n",
              "      dtype='object')"
            ]
          },
          "metadata": {},
          "execution_count": 13
        }
      ]
    },
    {
      "cell_type": "code",
      "metadata": {
        "id": "nbtzmMZe4kvI",
        "outputId": "652e1f21-9948-472e-f590-0f0a419a85a2",
        "colab": {
          "base_uri": "https://localhost:8080/"
        }
      },
      "source": [
        "df[\"4046\"]"
      ],
      "execution_count": 15,
      "outputs": [
        {
          "output_type": "execute_result",
          "data": {
            "text/plain": [
              "0        1036.74\n",
              "1         674.28\n",
              "2         794.70\n",
              "3        1132.00\n",
              "4         941.48\n",
              "          ...   \n",
              "18244    2046.96\n",
              "18245    1191.70\n",
              "18246    1191.92\n",
              "18247    1527.63\n",
              "18248    2894.77\n",
              "Name: 4046, Length: 18249, dtype: float64"
            ]
          },
          "metadata": {},
          "execution_count": 15
        }
      ]
    },
    {
      "cell_type": "code",
      "metadata": {
        "id": "QTkdHyFO5fhG",
        "outputId": "5e95621e-067f-4147-d319-02c2126b1a73",
        "colab": {
          "base_uri": "https://localhost:8080/",
          "height": 417
        }
      },
      "source": [
        "df[[\"AveragePrice\",\"Total Volume\"]]"
      ],
      "execution_count": 16,
      "outputs": [
        {
          "output_type": "execute_result",
          "data": {
            "text/html": [
              "<div>\n",
              "<style scoped>\n",
              "    .dataframe tbody tr th:only-of-type {\n",
              "        vertical-align: middle;\n",
              "    }\n",
              "\n",
              "    .dataframe tbody tr th {\n",
              "        vertical-align: top;\n",
              "    }\n",
              "\n",
              "    .dataframe thead th {\n",
              "        text-align: right;\n",
              "    }\n",
              "</style>\n",
              "<table border=\"1\" class=\"dataframe\">\n",
              "  <thead>\n",
              "    <tr style=\"text-align: right;\">\n",
              "      <th></th>\n",
              "      <th>AveragePrice</th>\n",
              "      <th>Total Volume</th>\n",
              "    </tr>\n",
              "  </thead>\n",
              "  <tbody>\n",
              "    <tr>\n",
              "      <th>0</th>\n",
              "      <td>1.33</td>\n",
              "      <td>64236.62</td>\n",
              "    </tr>\n",
              "    <tr>\n",
              "      <th>1</th>\n",
              "      <td>1.35</td>\n",
              "      <td>54876.98</td>\n",
              "    </tr>\n",
              "    <tr>\n",
              "      <th>2</th>\n",
              "      <td>0.93</td>\n",
              "      <td>118220.22</td>\n",
              "    </tr>\n",
              "    <tr>\n",
              "      <th>3</th>\n",
              "      <td>1.08</td>\n",
              "      <td>78992.15</td>\n",
              "    </tr>\n",
              "    <tr>\n",
              "      <th>4</th>\n",
              "      <td>1.28</td>\n",
              "      <td>51039.60</td>\n",
              "    </tr>\n",
              "    <tr>\n",
              "      <th>...</th>\n",
              "      <td>...</td>\n",
              "      <td>...</td>\n",
              "    </tr>\n",
              "    <tr>\n",
              "      <th>18244</th>\n",
              "      <td>1.63</td>\n",
              "      <td>17074.83</td>\n",
              "    </tr>\n",
              "    <tr>\n",
              "      <th>18245</th>\n",
              "      <td>1.71</td>\n",
              "      <td>13888.04</td>\n",
              "    </tr>\n",
              "    <tr>\n",
              "      <th>18246</th>\n",
              "      <td>1.87</td>\n",
              "      <td>13766.76</td>\n",
              "    </tr>\n",
              "    <tr>\n",
              "      <th>18247</th>\n",
              "      <td>1.93</td>\n",
              "      <td>16205.22</td>\n",
              "    </tr>\n",
              "    <tr>\n",
              "      <th>18248</th>\n",
              "      <td>1.62</td>\n",
              "      <td>17489.58</td>\n",
              "    </tr>\n",
              "  </tbody>\n",
              "</table>\n",
              "<p>18249 rows × 2 columns</p>\n",
              "</div>"
            ],
            "text/plain": [
              "       AveragePrice  Total Volume\n",
              "0              1.33      64236.62\n",
              "1              1.35      54876.98\n",
              "2              0.93     118220.22\n",
              "3              1.08      78992.15\n",
              "4              1.28      51039.60\n",
              "...             ...           ...\n",
              "18244          1.63      17074.83\n",
              "18245          1.71      13888.04\n",
              "18246          1.87      13766.76\n",
              "18247          1.93      16205.22\n",
              "18248          1.62      17489.58\n",
              "\n",
              "[18249 rows x 2 columns]"
            ]
          },
          "metadata": {},
          "execution_count": 16
        }
      ]
    },
    {
      "cell_type": "code",
      "metadata": {
        "id": "7hvclBdJYZHb",
        "colab": {
          "base_uri": "https://localhost:8080/",
          "height": 162
        },
        "outputId": "0b3e5920-e591-48e6-cf18-d2ea546ee6c9"
      },
      "source": [
        "df[df == NA].value_count()"
      ],
      "execution_count": 8,
      "outputs": [
        {
          "output_type": "error",
          "ename": "NameError",
          "evalue": "ignored",
          "traceback": [
            "\u001b[0;31m---------------------------------------------------------------------------\u001b[0m",
            "\u001b[0;31mNameError\u001b[0m                                 Traceback (most recent call last)",
            "\u001b[0;32m<ipython-input-8-68c302907aa8>\u001b[0m in \u001b[0;36m<module>\u001b[0;34m()\u001b[0m\n\u001b[0;32m----> 1\u001b[0;31m \u001b[0mdf\u001b[0m\u001b[0;34m[\u001b[0m\u001b[0mdf\u001b[0m \u001b[0;34m==\u001b[0m \u001b[0mNA\u001b[0m\u001b[0;34m]\u001b[0m\u001b[0;34m.\u001b[0m\u001b[0mvalue_count\u001b[0m\u001b[0;34m(\u001b[0m\u001b[0;34m)\u001b[0m\u001b[0;34m\u001b[0m\u001b[0;34m\u001b[0m\u001b[0m\n\u001b[0m",
            "\u001b[0;31mNameError\u001b[0m: name 'NA' is not defined"
          ]
        }
      ]
    },
    {
      "cell_type": "markdown",
      "metadata": {
        "id": "sJ5layaO0MI3"
      },
      "source": [
        ""
      ]
    }
  ]
}