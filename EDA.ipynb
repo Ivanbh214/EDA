{
  "nbformat": 4,
  "nbformat_minor": 0,
  "metadata": {
    "colab": {
      "name": "Untitled5.ipynb",
      "provenance": [],
      "mount_file_id": "https://github.com/Ivanbh214/EDA/blob/main/EDA.ipynb",
      "authorship_tag": "ABX9TyPKTuEJOA40FIluRxsMmIQN",
      "include_colab_link": true
    },
    "kernelspec": {
      "name": "python3",
      "display_name": "Python 3"
    },
    "language_info": {
      "name": "python"
    }
  },
  "cells": [
    {
      "cell_type": "markdown",
      "metadata": {
        "id": "view-in-github",
        "colab_type": "text"
      },
      "source": [
        "<a href=\"https://colab.research.google.com/github/Ivanbh214/EDA/blob/main/EDA.ipynb\" target=\"_parent\"><img src=\"https://colab.research.google.com/assets/colab-badge.svg\" alt=\"Open In Colab\"/></a>"
      ]
    },
    {
      "cell_type": "code",
      "metadata": {
        "id": "2BCyjyvSAdmQ"
      },
      "source": [
        "import pandas as pd"
      ],
      "execution_count": 9,
      "outputs": []
    },
    {
      "cell_type": "code",
      "metadata": {
        "id": "-W40bv9tNfdz"
      },
      "source": [
        "#Open the file in the github and copy the repository\n",
        "url = 'https://raw.githubusercontent.com/Ivanbh214/EDA/main/avocado.csv'\n",
        "df = pd.read_csv(url, sep=\",\", error_bad_lines=False)"
      ],
      "execution_count": 2,
      "outputs": []
    },
    {
      "cell_type": "code",
      "metadata": {
        "id": "zb6Ij462S6MW",
        "colab": {
          "base_uri": "https://localhost:8080/"
        },
        "outputId": "a736155a-8083-415d-c91d-4d7792abf1f6"
      },
      "source": [
        "print(df.head(5))"
      ],
      "execution_count": 3,
      "outputs": [
        {
          "output_type": "stream",
          "name": "stdout",
          "text": [
            "   Unnamed: 0        Date  AveragePrice  ...          type  year  region\n",
            "0           0  2015-12-27          1.33  ...  conventional  2015  Albany\n",
            "1           1  2015-12-20          1.35  ...  conventional  2015  Albany\n",
            "2           2  2015-12-13          0.93  ...  conventional  2015  Albany\n",
            "3           3  2015-12-06          1.08  ...  conventional  2015  Albany\n",
            "4           4  2015-11-29          1.28  ...  conventional  2015  Albany\n",
            "\n",
            "[5 rows x 14 columns]\n"
          ]
        }
      ]
    },
    {
      "cell_type": "code",
      "metadata": {
        "colab": {
          "base_uri": "https://localhost:8080/"
        },
        "id": "byjEoEQ2w2oy",
        "outputId": "41f5954f-172f-483f-cd87-e43e6add9ac2"
      },
      "source": [
        "df.info()"
      ],
      "execution_count": 4,
      "outputs": [
        {
          "output_type": "stream",
          "name": "stdout",
          "text": [
            "<class 'pandas.core.frame.DataFrame'>\n",
            "RangeIndex: 18249 entries, 0 to 18248\n",
            "Data columns (total 14 columns):\n",
            " #   Column        Non-Null Count  Dtype  \n",
            "---  ------        --------------  -----  \n",
            " 0   Unnamed: 0    18249 non-null  int64  \n",
            " 1   Date          18249 non-null  object \n",
            " 2   AveragePrice  18249 non-null  float64\n",
            " 3   Total Volume  18249 non-null  float64\n",
            " 4   4046          18249 non-null  float64\n",
            " 5   4225          18249 non-null  float64\n",
            " 6   4770          18249 non-null  float64\n",
            " 7   Total Bags    18249 non-null  float64\n",
            " 8   Small Bags    18249 non-null  float64\n",
            " 9   Large Bags    18249 non-null  float64\n",
            " 10  XLarge Bags   18249 non-null  float64\n",
            " 11  type          18249 non-null  object \n",
            " 12  year          18249 non-null  int64  \n",
            " 13  region        18249 non-null  object \n",
            "dtypes: float64(9), int64(2), object(3)\n",
            "memory usage: 1.9+ MB\n"
          ]
        }
      ]
    },
    {
      "cell_type": "code",
      "metadata": {
        "colab": {
          "base_uri": "https://localhost:8080/"
        },
        "id": "j6NKjmoRw8Z5",
        "outputId": "ddb174d1-821d-493b-a522-78b376518948"
      },
      "source": [
        "df.shape"
      ],
      "execution_count": 5,
      "outputs": [
        {
          "output_type": "execute_result",
          "data": {
            "text/plain": [
              "(18249, 14)"
            ]
          },
          "metadata": {},
          "execution_count": 5
        }
      ]
    },
    {
      "cell_type": "markdown",
      "metadata": {
        "id": "aF3Xq7Kh5BGn"
      },
      "source": [
        "We can see that 3 columns no have name, have numbers. So, this is have to be fix"
      ]
    },
    {
      "cell_type": "markdown",
      "metadata": {
        "id": "JCAj9wmFYioY"
      },
      "source": [
        "##Exploratory Data Analysis from avocado dataset\n",
        "1- Transform any character in interget ato NA \n",
        "\n",
        "*   Select the same type of variables\n",
        "\n",
        "*   Transform this character to NA\n",
        "\n",
        "\n",
        "2- Count the number of NA "
      ]
    },
    {
      "cell_type": "markdown",
      "metadata": {
        "id": "duEb1tEwR-GM"
      },
      "source": [
        "Kaggle notebook about the avocado price EDA \n",
        "\n",
        "1-https://www.kaggle.com/tekdogan/eda-for-avocado-prices\n",
        "\n",
        "2-https://www.kaggle.com/fabiorope/avocado-prices-eda\n",
        "\n",
        "3- https://www.kaggle.com/huseyinduman/avocado-prices-data-analysis-eda"
      ]
    },
    {
      "cell_type": "code",
      "metadata": {
        "colab": {
          "base_uri": "https://localhost:8080/"
        },
        "id": "sewn0Ums06CR",
        "outputId": "0ac2d676-54b8-4ede-f4b8-b0adc8bbca6a"
      },
      "source": [
        "df.columns"
      ],
      "execution_count": 6,
      "outputs": [
        {
          "output_type": "execute_result",
          "data": {
            "text/plain": [
              "Index(['Unnamed: 0', 'Date', 'AveragePrice', 'Total Volume', '4046', '4225',\n",
              "       '4770', 'Total Bags', 'Small Bags', 'Large Bags', 'XLarge Bags', 'type',\n",
              "       'year', 'region'],\n",
              "      dtype='object')"
            ]
          },
          "metadata": {},
          "execution_count": 6
        }
      ]
    },
    {
      "cell_type": "markdown",
      "metadata": {
        "id": "IXQX19djxgT8"
      },
      "source": [
        "**Variable categóricas**\n",
        "\n",
        "https://towardsdatascience.com/5-methods-to-check-for-nan-values-in-in-python-3f21ddd17eed\n",
        "\n",
        "1.   Elimination of space other characters\n",
        "\n"
      ]
    },
    {
      "cell_type": "code",
      "metadata": {
        "id": "FhIrFqWED_Ei"
      },
      "source": [
        "#From kaggle 3. Could be advisable to replace any character by NaN\n",
        "df.columns = df.columns.str.replace(' ', '_')\n",
        "df = df.drop('Unnamed:_0',1)"
      ],
      "execution_count": 7,
      "outputs": []
    },
    {
      "cell_type": "code",
      "metadata": {
        "id": "pb9axGMhHGoV",
        "outputId": "1ba702c5-9b9b-4efa-a63f-659ef407ec1d",
        "colab": {
          "base_uri": "https://localhost:8080/"
        }
      },
      "source": [
        "print(df.head())"
      ],
      "execution_count": 8,
      "outputs": [
        {
          "output_type": "stream",
          "name": "stdout",
          "text": [
            "         Date  AveragePrice  Total_Volume  ...          type  year  region\n",
            "0  2015-12-27          1.33      64236.62  ...  conventional  2015  Albany\n",
            "1  2015-12-20          1.35      54876.98  ...  conventional  2015  Albany\n",
            "2  2015-12-13          0.93     118220.22  ...  conventional  2015  Albany\n",
            "3  2015-12-06          1.08      78992.15  ...  conventional  2015  Albany\n",
            "4  2015-11-29          1.28      51039.60  ...  conventional  2015  Albany\n",
            "\n",
            "[5 rows x 13 columns]\n"
          ]
        }
      ]
    },
    {
      "cell_type": "code",
      "metadata": {
        "colab": {
          "base_uri": "https://localhost:8080/",
          "height": 333
        },
        "id": "a7s6enwgGpq5",
        "outputId": "867ff6dd-7fb2-4b3a-9c12-478565200738"
      },
      "source": [
        "#Replace and symbol\n",
        "df.str.replace(['','-'], 'NA')\n",
        "\n",
        "df.head(5)"
      ],
      "execution_count": null,
      "outputs": [
        {
          "output_type": "error",
          "ename": "AttributeError",
          "evalue": "ignored",
          "traceback": [
            "\u001b[0;31m---------------------------------------------------------------------------\u001b[0m",
            "\u001b[0;31mAttributeError\u001b[0m                            Traceback (most recent call last)",
            "\u001b[0;32m<ipython-input-9-fc095a9086a7>\u001b[0m in \u001b[0;36m<module>\u001b[0;34m()\u001b[0m\n\u001b[1;32m      1\u001b[0m \u001b[0;31m#Replace and symbol\u001b[0m\u001b[0;34m\u001b[0m\u001b[0;34m\u001b[0m\u001b[0;34m\u001b[0m\u001b[0m\n\u001b[0;32m----> 2\u001b[0;31m \u001b[0mdf\u001b[0m\u001b[0;34m.\u001b[0m\u001b[0mstr\u001b[0m\u001b[0;34m.\u001b[0m\u001b[0mreplace\u001b[0m\u001b[0;34m(\u001b[0m\u001b[0;34m[\u001b[0m\u001b[0;34m''\u001b[0m\u001b[0;34m,\u001b[0m\u001b[0;34m'-'\u001b[0m\u001b[0;34m]\u001b[0m\u001b[0;34m,\u001b[0m \u001b[0;34m'NA'\u001b[0m\u001b[0;34m)\u001b[0m\u001b[0;34m\u001b[0m\u001b[0;34m\u001b[0m\u001b[0m\n\u001b[0m\u001b[1;32m      3\u001b[0m \u001b[0;34m\u001b[0m\u001b[0m\n\u001b[1;32m      4\u001b[0m \u001b[0mdf\u001b[0m\u001b[0;34m.\u001b[0m\u001b[0mhead\u001b[0m\u001b[0;34m(\u001b[0m\u001b[0;36m5\u001b[0m\u001b[0;34m)\u001b[0m\u001b[0;34m\u001b[0m\u001b[0;34m\u001b[0m\u001b[0m\n",
            "\u001b[0;32m/usr/local/lib/python3.7/dist-packages/pandas/core/generic.py\u001b[0m in \u001b[0;36m__getattr__\u001b[0;34m(self, name)\u001b[0m\n\u001b[1;32m   5139\u001b[0m             \u001b[0;32mif\u001b[0m \u001b[0mself\u001b[0m\u001b[0;34m.\u001b[0m\u001b[0m_info_axis\u001b[0m\u001b[0;34m.\u001b[0m\u001b[0m_can_hold_identifiers_and_holds_name\u001b[0m\u001b[0;34m(\u001b[0m\u001b[0mname\u001b[0m\u001b[0;34m)\u001b[0m\u001b[0;34m:\u001b[0m\u001b[0;34m\u001b[0m\u001b[0;34m\u001b[0m\u001b[0m\n\u001b[1;32m   5140\u001b[0m                 \u001b[0;32mreturn\u001b[0m \u001b[0mself\u001b[0m\u001b[0;34m[\u001b[0m\u001b[0mname\u001b[0m\u001b[0;34m]\u001b[0m\u001b[0;34m\u001b[0m\u001b[0;34m\u001b[0m\u001b[0m\n\u001b[0;32m-> 5141\u001b[0;31m             \u001b[0;32mreturn\u001b[0m \u001b[0mobject\u001b[0m\u001b[0;34m.\u001b[0m\u001b[0m__getattribute__\u001b[0m\u001b[0;34m(\u001b[0m\u001b[0mself\u001b[0m\u001b[0;34m,\u001b[0m \u001b[0mname\u001b[0m\u001b[0;34m)\u001b[0m\u001b[0;34m\u001b[0m\u001b[0;34m\u001b[0m\u001b[0m\n\u001b[0m\u001b[1;32m   5142\u001b[0m \u001b[0;34m\u001b[0m\u001b[0m\n\u001b[1;32m   5143\u001b[0m     \u001b[0;32mdef\u001b[0m \u001b[0m__setattr__\u001b[0m\u001b[0;34m(\u001b[0m\u001b[0mself\u001b[0m\u001b[0;34m,\u001b[0m \u001b[0mname\u001b[0m\u001b[0;34m:\u001b[0m \u001b[0mstr\u001b[0m\u001b[0;34m,\u001b[0m \u001b[0mvalue\u001b[0m\u001b[0;34m)\u001b[0m \u001b[0;34m->\u001b[0m \u001b[0;32mNone\u001b[0m\u001b[0;34m:\u001b[0m\u001b[0;34m\u001b[0m\u001b[0;34m\u001b[0m\u001b[0m\n",
            "\u001b[0;31mAttributeError\u001b[0m: 'DataFrame' object has no attribute 'str'"
          ]
        }
      ]
    },
    {
      "cell_type": "code",
      "metadata": {
        "id": "QTkdHyFO5fhG"
      },
      "source": [
        "# List of column names to clean\n",
        "cols_to_clean = df[[\"Date\", \"AveragePrice\", \"Total_Volume\", \"Total_Bags\", \"Small_Bags\", \"Large_Bags\", \"XLarge_Bags\"]]"
      ],
      "execution_count": 12,
      "outputs": []
    },
    {
      "cell_type": "code",
      "metadata": {
        "id": "KVxDoEB4s2Of"
      },
      "source": [
        "# List of characters to remove\n",
        "chars_to_remove = ['+', ',','$']"
      ],
      "execution_count": 10,
      "outputs": []
    },
    {
      "cell_type": "code",
      "metadata": {
        "id": "oiMvT1V6bNls"
      },
      "source": [
        "# List of column names to clean\n",
        "cols_to_clean = ['Installs', 'Price']   "
      ],
      "execution_count": null,
      "outputs": []
    },
    {
      "cell_type": "code",
      "metadata": {
        "id": "8VaBYLbjtHis",
        "outputId": "cb83fb8e-b5ec-464b-bfb3-d63a92166254",
        "colab": {
          "base_uri": "https://localhost:8080/",
          "height": 195
        }
      },
      "source": [
        "# Loop for each column in cols_to_clean\n",
        "\"\"\"for col in cols_to_clean:\n",
        "    # Loop for each char in chars_to_remove\n",
        "    for char in chars_to_remove:\n",
        "        # Replace the character with an empty string\n",
        "        apps[col] = apps[col].apply(lambda x: x.replace(char, ''))\"\"\""
      ],
      "execution_count": 13,
      "outputs": [
        {
          "output_type": "error",
          "ename": "NameError",
          "evalue": "ignored",
          "traceback": [
            "\u001b[0;31m---------------------------------------------------------------------------\u001b[0m",
            "\u001b[0;31mNameError\u001b[0m                                 Traceback (most recent call last)",
            "\u001b[0;32m<ipython-input-13-6a1bb73c9b21>\u001b[0m in \u001b[0;36m<module>\u001b[0;34m()\u001b[0m\n\u001b[1;32m      4\u001b[0m     \u001b[0;32mfor\u001b[0m \u001b[0mchar\u001b[0m \u001b[0;32min\u001b[0m \u001b[0mchars_to_remove\u001b[0m\u001b[0;34m:\u001b[0m\u001b[0;34m\u001b[0m\u001b[0;34m\u001b[0m\u001b[0m\n\u001b[1;32m      5\u001b[0m         \u001b[0;31m# Replace the character with an empty string\u001b[0m\u001b[0;34m\u001b[0m\u001b[0;34m\u001b[0m\u001b[0;34m\u001b[0m\u001b[0m\n\u001b[0;32m----> 6\u001b[0;31m         \u001b[0mapps\u001b[0m\u001b[0;34m[\u001b[0m\u001b[0mcol\u001b[0m\u001b[0;34m]\u001b[0m \u001b[0;34m=\u001b[0m \u001b[0mapps\u001b[0m\u001b[0;34m[\u001b[0m\u001b[0mcol\u001b[0m\u001b[0;34m]\u001b[0m\u001b[0;34m.\u001b[0m\u001b[0mapply\u001b[0m\u001b[0;34m(\u001b[0m\u001b[0;32mlambda\u001b[0m \u001b[0mx\u001b[0m\u001b[0;34m:\u001b[0m \u001b[0mx\u001b[0m\u001b[0;34m.\u001b[0m\u001b[0mreplace\u001b[0m\u001b[0;34m(\u001b[0m\u001b[0mchar\u001b[0m\u001b[0;34m,\u001b[0m \u001b[0;34m''\u001b[0m\u001b[0;34m)\u001b[0m\u001b[0;34m)\u001b[0m\u001b[0;34m\u001b[0m\u001b[0;34m\u001b[0m\u001b[0m\n\u001b[0m",
            "\u001b[0;31mNameError\u001b[0m: name 'apps' is not defined"
          ]
        }
      ]
    },
    {
      "cell_type": "code",
      "metadata": {
        "id": "d_oNQMuTuKDA"
      },
      "source": [
        "# Loop for each column in cols_to_clean\n",
        "for col in cols_to_clean:\n",
        "    # Loop for each char in chars_to_remove\n",
        "    for char in chars_to_remove:\n",
        "        # Replace the character with an empty string\n",
        "        cols_to_clean = cols_to_clean.apply(lambda x: x.replace(char, 'NA'))"
      ],
      "execution_count": 17,
      "outputs": []
    },
    {
      "cell_type": "code",
      "metadata": {
        "id": "aDqURAY0unnG",
        "outputId": "9c2c48a1-58f2-4c3a-82d8-154c39be9934",
        "colab": {
          "base_uri": "https://localhost:8080/"
        }
      },
      "source": [
        "type(cols_to_clean)"
      ],
      "execution_count": 15,
      "outputs": [
        {
          "output_type": "execute_result",
          "data": {
            "text/plain": [
              "pandas.core.frame.DataFrame"
            ]
          },
          "metadata": {},
          "execution_count": 15
        }
      ]
    },
    {
      "cell_type": "code",
      "metadata": {
        "id": "KAtWC53nutKO",
        "outputId": "fe4abb4b-19a8-4d5c-d37e-c7de618a6535",
        "colab": {
          "base_uri": "https://localhost:8080/",
          "height": 326
        }
      },
      "source": [
        "cols_to_clean.head(9)"
      ],
      "execution_count": 18,
      "outputs": [
        {
          "output_type": "execute_result",
          "data": {
            "text/html": [
              "<div>\n",
              "<style scoped>\n",
              "    .dataframe tbody tr th:only-of-type {\n",
              "        vertical-align: middle;\n",
              "    }\n",
              "\n",
              "    .dataframe tbody tr th {\n",
              "        vertical-align: top;\n",
              "    }\n",
              "\n",
              "    .dataframe thead th {\n",
              "        text-align: right;\n",
              "    }\n",
              "</style>\n",
              "<table border=\"1\" class=\"dataframe\">\n",
              "  <thead>\n",
              "    <tr style=\"text-align: right;\">\n",
              "      <th></th>\n",
              "      <th>Date</th>\n",
              "      <th>AveragePrice</th>\n",
              "      <th>Total_Volume</th>\n",
              "      <th>Total_Bags</th>\n",
              "      <th>Small_Bags</th>\n",
              "      <th>Large_Bags</th>\n",
              "      <th>XLarge_Bags</th>\n",
              "    </tr>\n",
              "  </thead>\n",
              "  <tbody>\n",
              "    <tr>\n",
              "      <th>0</th>\n",
              "      <td>2015-12-27</td>\n",
              "      <td>1.33</td>\n",
              "      <td>64236.62</td>\n",
              "      <td>8696.87</td>\n",
              "      <td>8603.62</td>\n",
              "      <td>93.25</td>\n",
              "      <td>0.0</td>\n",
              "    </tr>\n",
              "    <tr>\n",
              "      <th>1</th>\n",
              "      <td>2015-12-20</td>\n",
              "      <td>1.35</td>\n",
              "      <td>54876.98</td>\n",
              "      <td>9505.56</td>\n",
              "      <td>9408.07</td>\n",
              "      <td>97.49</td>\n",
              "      <td>0.0</td>\n",
              "    </tr>\n",
              "    <tr>\n",
              "      <th>2</th>\n",
              "      <td>2015-12-13</td>\n",
              "      <td>0.93</td>\n",
              "      <td>118220.22</td>\n",
              "      <td>8145.35</td>\n",
              "      <td>8042.21</td>\n",
              "      <td>103.14</td>\n",
              "      <td>0.0</td>\n",
              "    </tr>\n",
              "    <tr>\n",
              "      <th>3</th>\n",
              "      <td>2015-12-06</td>\n",
              "      <td>1.08</td>\n",
              "      <td>78992.15</td>\n",
              "      <td>5811.16</td>\n",
              "      <td>5677.40</td>\n",
              "      <td>133.76</td>\n",
              "      <td>0.0</td>\n",
              "    </tr>\n",
              "    <tr>\n",
              "      <th>4</th>\n",
              "      <td>2015-11-29</td>\n",
              "      <td>1.28</td>\n",
              "      <td>51039.60</td>\n",
              "      <td>6183.95</td>\n",
              "      <td>5986.26</td>\n",
              "      <td>197.69</td>\n",
              "      <td>0.0</td>\n",
              "    </tr>\n",
              "    <tr>\n",
              "      <th>5</th>\n",
              "      <td>2015-11-22</td>\n",
              "      <td>1.26</td>\n",
              "      <td>55979.78</td>\n",
              "      <td>6683.91</td>\n",
              "      <td>6556.47</td>\n",
              "      <td>127.44</td>\n",
              "      <td>0.0</td>\n",
              "    </tr>\n",
              "    <tr>\n",
              "      <th>6</th>\n",
              "      <td>2015-11-15</td>\n",
              "      <td>0.99</td>\n",
              "      <td>83453.76</td>\n",
              "      <td>8318.86</td>\n",
              "      <td>8196.81</td>\n",
              "      <td>122.05</td>\n",
              "      <td>0.0</td>\n",
              "    </tr>\n",
              "    <tr>\n",
              "      <th>7</th>\n",
              "      <td>2015-11-08</td>\n",
              "      <td>0.98</td>\n",
              "      <td>109428.33</td>\n",
              "      <td>6829.22</td>\n",
              "      <td>6266.85</td>\n",
              "      <td>562.37</td>\n",
              "      <td>0.0</td>\n",
              "    </tr>\n",
              "    <tr>\n",
              "      <th>8</th>\n",
              "      <td>2015-11-01</td>\n",
              "      <td>1.02</td>\n",
              "      <td>99811.42</td>\n",
              "      <td>11388.36</td>\n",
              "      <td>11104.53</td>\n",
              "      <td>283.83</td>\n",
              "      <td>0.0</td>\n",
              "    </tr>\n",
              "  </tbody>\n",
              "</table>\n",
              "</div>"
            ],
            "text/plain": [
              "         Date  AveragePrice  Total_Volume  ...  Small_Bags  Large_Bags  XLarge_Bags\n",
              "0  2015-12-27          1.33      64236.62  ...     8603.62       93.25          0.0\n",
              "1  2015-12-20          1.35      54876.98  ...     9408.07       97.49          0.0\n",
              "2  2015-12-13          0.93     118220.22  ...     8042.21      103.14          0.0\n",
              "3  2015-12-06          1.08      78992.15  ...     5677.40      133.76          0.0\n",
              "4  2015-11-29          1.28      51039.60  ...     5986.26      197.69          0.0\n",
              "5  2015-11-22          1.26      55979.78  ...     6556.47      127.44          0.0\n",
              "6  2015-11-15          0.99      83453.76  ...     8196.81      122.05          0.0\n",
              "7  2015-11-08          0.98     109428.33  ...     6266.85      562.37          0.0\n",
              "8  2015-11-01          1.02      99811.42  ...    11104.53      283.83          0.0\n",
              "\n",
              "[9 rows x 7 columns]"
            ]
          },
          "metadata": {},
          "execution_count": 18
        }
      ]
    },
    {
      "cell_type": "code",
      "metadata": {
        "id": "1nqDE8as8KZZ",
        "outputId": "e6974598-fc77-4aa9-dbd3-6a03e3b0c84f",
        "colab": {
          "base_uri": "https://localhost:8080/"
        }
      },
      "source": [
        "\"\"\"#Detection of NA\n",
        "#import pandas as pd\n",
        "x = float(\"nan\")\n",
        "print(f\"It's pd.isna  : {pd.isna(x)}\")\"\"\""
      ],
      "execution_count": 19,
      "outputs": [
        {
          "output_type": "stream",
          "name": "stdout",
          "text": [
            "It's pd.isna  : True\n"
          ]
        }
      ]
    },
    {
      "cell_type": "code",
      "metadata": {
        "id": "nnZFI88UxM1_",
        "outputId": "d154e217-f3bc-4de1-c34a-e8da01fbeb3a",
        "colab": {
          "base_uri": "https://localhost:8080/"
        }
      },
      "source": [
        "#Para comprobar que si hay o no valores NA\n",
        "#https://stackoverflow.com/questions/29530232/how-to-check-if-any-value-is-nan-in-a-pandas-dataframe\n",
        "\n",
        "cols_to_clean.isnull().values.any()"
      ],
      "execution_count": 26,
      "outputs": [
        {
          "output_type": "execute_result",
          "data": {
            "text/plain": [
              "False"
            ]
          },
          "metadata": {},
          "execution_count": 26
        }
      ]
    },
    {
      "cell_type": "code",
      "metadata": {
        "id": "6Y8evu5Ev0w_",
        "outputId": "ee99185e-4e58-4d1f-c39a-3b3d713c875b",
        "colab": {
          "base_uri": "https://localhost:8080/",
          "height": 296
        }
      },
      "source": [
        "if pd.isna(cols_to_clean) == True:\n",
        " print(\"clean NA\")"
      ],
      "execution_count": 25,
      "outputs": [
        {
          "output_type": "error",
          "ename": "ValueError",
          "evalue": "ignored",
          "traceback": [
            "\u001b[0;31m---------------------------------------------------------------------------\u001b[0m",
            "\u001b[0;31mValueError\u001b[0m                                Traceback (most recent call last)",
            "\u001b[0;32m<ipython-input-25-fe6e40a4f8a4>\u001b[0m in \u001b[0;36m<module>\u001b[0;34m()\u001b[0m\n\u001b[0;32m----> 1\u001b[0;31m \u001b[0;32mif\u001b[0m \u001b[0mpd\u001b[0m\u001b[0;34m.\u001b[0m\u001b[0misna\u001b[0m\u001b[0;34m(\u001b[0m\u001b[0mcols_to_clean\u001b[0m\u001b[0;34m)\u001b[0m \u001b[0;34m==\u001b[0m \u001b[0;32mTrue\u001b[0m\u001b[0;34m:\u001b[0m\u001b[0;34m\u001b[0m\u001b[0;34m\u001b[0m\u001b[0m\n\u001b[0m\u001b[1;32m      2\u001b[0m  \u001b[0mprint\u001b[0m\u001b[0;34m(\u001b[0m\u001b[0;34m\"clean NA\"\u001b[0m\u001b[0;34m)\u001b[0m\u001b[0;34m\u001b[0m\u001b[0;34m\u001b[0m\u001b[0m\n",
            "\u001b[0;32m/usr/local/lib/python3.7/dist-packages/pandas/core/generic.py\u001b[0m in \u001b[0;36m__nonzero__\u001b[0;34m(self)\u001b[0m\n\u001b[1;32m   1328\u001b[0m     \u001b[0;32mdef\u001b[0m \u001b[0m__nonzero__\u001b[0m\u001b[0;34m(\u001b[0m\u001b[0mself\u001b[0m\u001b[0;34m)\u001b[0m\u001b[0;34m:\u001b[0m\u001b[0;34m\u001b[0m\u001b[0;34m\u001b[0m\u001b[0m\n\u001b[1;32m   1329\u001b[0m         raise ValueError(\n\u001b[0;32m-> 1330\u001b[0;31m             \u001b[0;34mf\"The truth value of a {type(self).__name__} is ambiguous. \"\u001b[0m\u001b[0;34m\u001b[0m\u001b[0;34m\u001b[0m\u001b[0m\n\u001b[0m\u001b[1;32m   1331\u001b[0m             \u001b[0;34m\"Use a.empty, a.bool(), a.item(), a.any() or a.all().\"\u001b[0m\u001b[0;34m\u001b[0m\u001b[0;34m\u001b[0m\u001b[0m\n\u001b[1;32m   1332\u001b[0m         )\n",
            "\u001b[0;31mValueError\u001b[0m: The truth value of a DataFrame is ambiguous. Use a.empty, a.bool(), a.item(), a.any() or a.all()."
          ]
        }
      ]
    },
    {
      "cell_type": "code",
      "metadata": {
        "id": "16SQCIk_vRFP",
        "outputId": "76499b59-ed67-44f1-f65b-ed4646e8df21",
        "colab": {
          "base_uri": "https://localhost:8080/"
        }
      },
      "source": [
        "#Detection of NA\n",
        "#import pandas as pd\n",
        "print(f\"It's pd.isna  : {pd.isna(cols_to_clean)}\")"
      ],
      "execution_count": 20,
      "outputs": [
        {
          "output_type": "stream",
          "name": "stdout",
          "text": [
            "It's pd.isna  :         Date  AveragePrice  Total_Volume  ...  Small_Bags  Large_Bags  XLarge_Bags\n",
            "0      False         False         False  ...       False       False        False\n",
            "1      False         False         False  ...       False       False        False\n",
            "2      False         False         False  ...       False       False        False\n",
            "3      False         False         False  ...       False       False        False\n",
            "4      False         False         False  ...       False       False        False\n",
            "...      ...           ...           ...  ...         ...         ...          ...\n",
            "18244  False         False         False  ...       False       False        False\n",
            "18245  False         False         False  ...       False       False        False\n",
            "18246  False         False         False  ...       False       False        False\n",
            "18247  False         False         False  ...       False       False        False\n",
            "18248  False         False         False  ...       False       False        False\n",
            "\n",
            "[18249 rows x 7 columns]\n"
          ]
        }
      ]
    },
    {
      "cell_type": "code",
      "metadata": {
        "id": "b1AteIiIDgDy",
        "colab": {
          "base_uri": "https://localhost:8080/",
          "height": 307
        },
        "outputId": "e04bb057-eea5-4c90-80b0-6b8b23f10b2a"
      },
      "source": [
        "df.head()"
      ],
      "execution_count": null,
      "outputs": [
        {
          "output_type": "execute_result",
          "data": {
            "text/html": [
              "<div>\n",
              "<style scoped>\n",
              "    .dataframe tbody tr th:only-of-type {\n",
              "        vertical-align: middle;\n",
              "    }\n",
              "\n",
              "    .dataframe tbody tr th {\n",
              "        vertical-align: top;\n",
              "    }\n",
              "\n",
              "    .dataframe thead th {\n",
              "        text-align: right;\n",
              "    }\n",
              "</style>\n",
              "<table border=\"1\" class=\"dataframe\">\n",
              "  <thead>\n",
              "    <tr style=\"text-align: right;\">\n",
              "      <th></th>\n",
              "      <th>Date</th>\n",
              "      <th>AveragePrice</th>\n",
              "      <th>Total_Volume</th>\n",
              "      <th>4046</th>\n",
              "      <th>4225</th>\n",
              "      <th>4770</th>\n",
              "      <th>Total_Bags</th>\n",
              "      <th>Small_Bags</th>\n",
              "      <th>Large_Bags</th>\n",
              "      <th>XLarge_Bags</th>\n",
              "      <th>type</th>\n",
              "      <th>year</th>\n",
              "      <th>region</th>\n",
              "    </tr>\n",
              "  </thead>\n",
              "  <tbody>\n",
              "    <tr>\n",
              "      <th>0</th>\n",
              "      <td>2015-12-27</td>\n",
              "      <td>1.33</td>\n",
              "      <td>64236.62</td>\n",
              "      <td>1036.74</td>\n",
              "      <td>54454.85</td>\n",
              "      <td>48.16</td>\n",
              "      <td>8696.87</td>\n",
              "      <td>8603.62</td>\n",
              "      <td>93.25</td>\n",
              "      <td>0.0</td>\n",
              "      <td>conventional</td>\n",
              "      <td>2015</td>\n",
              "      <td>Albany</td>\n",
              "    </tr>\n",
              "    <tr>\n",
              "      <th>1</th>\n",
              "      <td>2015-12-20</td>\n",
              "      <td>1.35</td>\n",
              "      <td>54876.98</td>\n",
              "      <td>674.28</td>\n",
              "      <td>44638.81</td>\n",
              "      <td>58.33</td>\n",
              "      <td>9505.56</td>\n",
              "      <td>9408.07</td>\n",
              "      <td>97.49</td>\n",
              "      <td>0.0</td>\n",
              "      <td>conventional</td>\n",
              "      <td>2015</td>\n",
              "      <td>Albany</td>\n",
              "    </tr>\n",
              "    <tr>\n",
              "      <th>2</th>\n",
              "      <td>2015-12-13</td>\n",
              "      <td>0.93</td>\n",
              "      <td>118220.22</td>\n",
              "      <td>794.70</td>\n",
              "      <td>109149.67</td>\n",
              "      <td>130.50</td>\n",
              "      <td>8145.35</td>\n",
              "      <td>8042.21</td>\n",
              "      <td>103.14</td>\n",
              "      <td>0.0</td>\n",
              "      <td>conventional</td>\n",
              "      <td>2015</td>\n",
              "      <td>Albany</td>\n",
              "    </tr>\n",
              "    <tr>\n",
              "      <th>3</th>\n",
              "      <td>2015-12-06</td>\n",
              "      <td>1.08</td>\n",
              "      <td>78992.15</td>\n",
              "      <td>1132.00</td>\n",
              "      <td>71976.41</td>\n",
              "      <td>72.58</td>\n",
              "      <td>5811.16</td>\n",
              "      <td>5677.40</td>\n",
              "      <td>133.76</td>\n",
              "      <td>0.0</td>\n",
              "      <td>conventional</td>\n",
              "      <td>2015</td>\n",
              "      <td>Albany</td>\n",
              "    </tr>\n",
              "    <tr>\n",
              "      <th>4</th>\n",
              "      <td>2015-11-29</td>\n",
              "      <td>1.28</td>\n",
              "      <td>51039.60</td>\n",
              "      <td>941.48</td>\n",
              "      <td>43838.39</td>\n",
              "      <td>75.78</td>\n",
              "      <td>6183.95</td>\n",
              "      <td>5986.26</td>\n",
              "      <td>197.69</td>\n",
              "      <td>0.0</td>\n",
              "      <td>conventional</td>\n",
              "      <td>2015</td>\n",
              "      <td>Albany</td>\n",
              "    </tr>\n",
              "  </tbody>\n",
              "</table>\n",
              "</div>"
            ],
            "text/plain": [
              "         Date  AveragePrice  Total_Volume  ...          type  year  region\n",
              "0  2015-12-27          1.33      64236.62  ...  conventional  2015  Albany\n",
              "1  2015-12-20          1.35      54876.98  ...  conventional  2015  Albany\n",
              "2  2015-12-13          0.93     118220.22  ...  conventional  2015  Albany\n",
              "3  2015-12-06          1.08      78992.15  ...  conventional  2015  Albany\n",
              "4  2015-11-29          1.28      51039.60  ...  conventional  2015  Albany\n",
              "\n",
              "[5 rows x 13 columns]"
            ]
          },
          "metadata": {},
          "execution_count": 19
        }
      ]
    },
    {
      "cell_type": "code",
      "metadata": {
        "colab": {
          "base_uri": "https://localhost:8080/"
        },
        "id": "nbtzmMZe4kvI",
        "outputId": "652e1f21-9948-472e-f590-0f0a419a85a2"
      },
      "source": [
        "df[\"4046\"]"
      ],
      "execution_count": null,
      "outputs": [
        {
          "output_type": "execute_result",
          "data": {
            "text/plain": [
              "0        1036.74\n",
              "1         674.28\n",
              "2         794.70\n",
              "3        1132.00\n",
              "4         941.48\n",
              "          ...   \n",
              "18244    2046.96\n",
              "18245    1191.70\n",
              "18246    1191.92\n",
              "18247    1527.63\n",
              "18248    2894.77\n",
              "Name: 4046, Length: 18249, dtype: float64"
            ]
          },
          "metadata": {},
          "execution_count": 15
        }
      ]
    },
    {
      "cell_type": "markdown",
      "metadata": {
        "id": "r9J_Sfh6qC3G"
      },
      "source": [
        "**Exploring categories variables**\n"
      ]
    },
    {
      "cell_type": "code",
      "metadata": {
        "id": "K2Du6Dwcb8lg"
      },
      "source": [
        "import matplotlib.pyplot as plt\n",
        "        "
      ],
      "execution_count": null,
      "outputs": []
    },
    {
      "cell_type": "code",
      "metadata": {
        "id": "L4KZopzEkbwD",
        "colab": {
          "base_uri": "https://localhost:8080/"
        },
        "outputId": "8e878fb6-42ee-45b8-ebf8-5c8702568489"
      },
      "source": [
        "# Print the total number of unique categories type \n",
        "num_categories_type = len(df['type'].unique())\n",
        "num_categories_region = len(df['region'].unique())\n",
        "\n",
        "print('Number of categories from type variable = ', num_categories_type)\n",
        "print('Number of categories from region variable = ', num_categories_region)\n"
      ],
      "execution_count": null,
      "outputs": [
        {
          "output_type": "stream",
          "name": "stdout",
          "text": [
            "Number of categories from type variable =  2\n",
            "Number of categories from region variable =  54\n"
          ]
        }
      ]
    },
    {
      "cell_type": "code",
      "metadata": {
        "id": "xZg0fBTakiOw",
        "colab": {
          "base_uri": "https://localhost:8080/"
        },
        "outputId": "66a18065-005c-45bb-8e0a-85a10c2bc30e"
      },
      "source": [
        "# Count the number of apps in each 'Category'. \n",
        "num_type_avocado = df['type'].value_counts()\n",
        "num_type_avocado"
      ],
      "execution_count": null,
      "outputs": [
        {
          "output_type": "execute_result",
          "data": {
            "text/plain": [
              "conventional    9126\n",
              "organic         9123\n",
              "Name: type, dtype: int64"
            ]
          },
          "metadata": {},
          "execution_count": 38
        }
      ]
    },
    {
      "cell_type": "code",
      "metadata": {
        "id": "p2rpdFTMramP",
        "colab": {
          "base_uri": "https://localhost:8080/"
        },
        "outputId": "8154cf60-a466-405b-d5af-6cec6fa87c44"
      },
      "source": [
        "# Sort num_apps_in_category in descending order based on the count of apps in each category\n",
        "sorted_num_type_avocado = num_type_avocado.sort_values(ascending = False)\n",
        "\n",
        "sorted_num_type_avocado\n"
      ],
      "execution_count": null,
      "outputs": [
        {
          "output_type": "execute_result",
          "data": {
            "text/plain": [
              "conventional    9126\n",
              "organic         9123\n",
              "Name: type, dtype: int64"
            ]
          },
          "metadata": {},
          "execution_count": 37
        }
      ]
    },
    {
      "cell_type": "code",
      "metadata": {
        "id": "cRjlE0rzrduw",
        "colab": {
          "base_uri": "https://localhost:8080/",
          "height": 371
        },
        "outputId": "320b06fa-6730-44f7-d919-5b6628725b8f"
      },
      "source": [
        "sorted_num_type_avocado.plot(kind=\"bar\",x = num_apps_in_category.index,y = num_apps_in_category.values)\n",
        "plt.show()\n",
        "sorted_num_type_avocado.value_counts()"
      ],
      "execution_count": null,
      "outputs": [
        {
          "output_type": "display_data",
          "data": {
            "image/png": "[encoded data removed]",
            "text/plain": [
              "<Figure size 432x288 with 1 Axes>"
            ]
          },
          "metadata": {
            "needs_background": "light"
          }
        },
        {
          "output_type": "execute_result",
          "data": {
            "text/plain": [
              "9123    1\n",
              "9126    1\n",
              "Name: type, dtype: int64"
            ]
          },
          "metadata": {},
          "execution_count": 39
        }
      ]
    },
    {
      "cell_type": "code",
      "metadata": {
        "id": "_CwCWVXsrj-K",
        "colab": {
          "base_uri": "https://localhost:8080/",
          "height": 163
        },
        "outputId": "73c9681e-bc82-46f6-c23f-784bcf024b69"
      },
      "source": [
        ""
      ],
      "execution_count": null,
      "outputs": [
        {
          "output_type": "error",
          "ename": "TypeError",
          "evalue": "ignored",
          "traceback": [
            "\u001b[0;31m---------------------------------------------------------------------------\u001b[0m",
            "\u001b[0;31mTypeError\u001b[0m                                 Traceback (most recent call last)",
            "\u001b[0;32m<ipython-input-25-59c863054dd6>\u001b[0m in \u001b[0;36m<module>\u001b[0;34m()\u001b[0m\n\u001b[0;32m----> 1\u001b[0;31m \u001b[0mplotly\u001b[0m\u001b[0;34m(\u001b[0m\u001b[0mdata_type\u001b[0m\u001b[0;34m)\u001b[0m\u001b[0;34m\u001b[0m\u001b[0;34m\u001b[0m\u001b[0m\n\u001b[0m",
            "\u001b[0;31mTypeError\u001b[0m: 'module' object is not callable"
          ]
        }
      ]
    }
  ]
}