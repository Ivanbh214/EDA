{
  "nbformat": 4,
  "nbformat_minor": 0,
  "metadata": {
    "colab": {
      "name": "Untitled5.ipynb",
      "provenance": [],
      "mount_file_id": "https://github.com/Ivanbh214/EDA/blob/main/EDA.ipynb",
      "authorship_tag": "ABX9TyOWiW7GmhvnMBFdyW8/VJV/",
      "include_colab_link": true
    },
    "kernelspec": {
      "name": "python3",
      "display_name": "Python 3"
    },
    "language_info": {
      "name": "python"
    }
  },
  "cells": [
    {
      "cell_type": "markdown",
      "metadata": {
        "id": "view-in-github",
        "colab_type": "text"
      },
      "source": [
        "<a href=\"https://colab.research.google.com/github/Ivanbh214/EDA/blob/main/EDA.ipynb\" target=\"_parent\"><img src=\"https://colab.research.google.com/assets/colab-badge.svg\" alt=\"Open In Colab\"/></a>"
      ]
    },
    {
      "cell_type": "code",
      "metadata": {
        "id": "2BCyjyvSAdmQ"
      },
      "source": [
        "import pandas as pd"
      ],
      "execution_count": 3,
      "outputs": []
    },
    {
      "cell_type": "code",
      "metadata": {
        "id": "-W40bv9tNfdz"
      },
      "source": [
        "#Open the file in the github and copy the repository\n",
        "url = 'https://raw.githubusercontent.com/Ivanbh214/EDA/main/avocado.csv'\n",
        "df_avocado = pd.read_csv(url, sep=\",\", error_bad_lines=False)"
      ],
      "execution_count": 24,
      "outputs": []
    },
    {
      "cell_type": "code",
      "metadata": {
        "id": "zb6Ij462S6MW",
        "colab": {
          "base_uri": "https://localhost:8080/"
        },
        "outputId": "74c212ef-fb93-42c4-8a1d-b8faee6905e7"
      },
      "source": [
        "print(df_avocado.head(5))"
      ],
      "execution_count": 25,
      "outputs": [
        {
          "output_type": "stream",
          "name": "stdout",
          "text": [
            "   Unnamed: 0        Date  AveragePrice  ...          type  year  region\n",
            "0           0  2015-12-27          1.33  ...  conventional  2015  Albany\n",
            "1           1  2015-12-20          1.35  ...  conventional  2015  Albany\n",
            "2           2  2015-12-13          0.93  ...  conventional  2015  Albany\n",
            "3           3  2015-12-06          1.08  ...  conventional  2015  Albany\n",
            "4           4  2015-11-29          1.28  ...  conventional  2015  Albany\n",
            "\n",
            "[5 rows x 14 columns]\n"
          ]
        }
      ]
    },
    {
      "cell_type": "code",
      "metadata": {
        "colab": {
          "base_uri": "https://localhost:8080/"
        },
        "id": "byjEoEQ2w2oy",
        "outputId": "3de1f122-327d-417a-ed24-e29b49794bb7"
      },
      "source": [
        "df_avocado.info()"
      ],
      "execution_count": 26,
      "outputs": [
        {
          "output_type": "stream",
          "name": "stdout",
          "text": [
            "<class 'pandas.core.frame.DataFrame'>\n",
            "RangeIndex: 18249 entries, 0 to 18248\n",
            "Data columns (total 14 columns):\n",
            " #   Column        Non-Null Count  Dtype  \n",
            "---  ------        --------------  -----  \n",
            " 0   Unnamed: 0    18249 non-null  int64  \n",
            " 1   Date          18249 non-null  object \n",
            " 2   AveragePrice  18249 non-null  float64\n",
            " 3   Total Volume  18249 non-null  float64\n",
            " 4   4046          18249 non-null  float64\n",
            " 5   4225          18249 non-null  float64\n",
            " 6   4770          18249 non-null  float64\n",
            " 7   Total Bags    18249 non-null  float64\n",
            " 8   Small Bags    18249 non-null  float64\n",
            " 9   Large Bags    18249 non-null  float64\n",
            " 10  XLarge Bags   18249 non-null  float64\n",
            " 11  type          18249 non-null  object \n",
            " 12  year          18249 non-null  int64  \n",
            " 13  region        18249 non-null  object \n",
            "dtypes: float64(9), int64(2), object(3)\n",
            "memory usage: 1.9+ MB\n"
          ]
        }
      ]
    },
    {
      "cell_type": "code",
      "metadata": {
        "colab": {
          "base_uri": "https://localhost:8080/"
        },
        "id": "j6NKjmoRw8Z5",
        "outputId": "b2856a84-4f79-4d68-c8f3-0ccedeed9d8a"
      },
      "source": [
        "df_avocado.shape"
      ],
      "execution_count": 27,
      "outputs": [
        {
          "output_type": "execute_result",
          "data": {
            "text/plain": [
              "(18249, 14)"
            ]
          },
          "metadata": {},
          "execution_count": 27
        }
      ]
    },
    {
      "cell_type": "markdown",
      "metadata": {
        "id": "aF3Xq7Kh5BGn"
      },
      "source": [
        "We can see that 3 columns no have name, have numbers. So, this is have to be fix"
      ]
    },
    {
      "cell_type": "markdown",
      "metadata": {
        "id": "JCAj9wmFYioY"
      },
      "source": [
        "##Exploratory Data Analysis from avocado dataset\n",
        "1- Transform any character in interget ato NA \n",
        "\n",
        "*   Select the same type of variables\n",
        "\n",
        "*   Transform this character to NA\n",
        "\n",
        "\n",
        "2- Count the number of NA "
      ]
    },
    {
      "cell_type": "markdown",
      "metadata": {
        "id": "duEb1tEwR-GM"
      },
      "source": [
        "Kaggle notebook about the avocado price EDA \n",
        "\n",
        "1-https://www.kaggle.com/tekdogan/eda-for-avocado-prices\n",
        "\n",
        "2-https://www.kaggle.com/fabiorope/avocado-prices-eda\n",
        "\n",
        "3- https://www.kaggle.com/huseyinduman/avocado-prices-data-analysis-eda"
      ]
    },
    {
      "cell_type": "code",
      "metadata": {
        "colab": {
          "base_uri": "https://localhost:8080/"
        },
        "id": "sewn0Ums06CR",
        "outputId": "61bdcd32-f5a3-46fc-a980-8badf009c9ad"
      },
      "source": [
        "df_avocado.columns"
      ],
      "execution_count": 28,
      "outputs": [
        {
          "output_type": "execute_result",
          "data": {
            "text/plain": [
              "Index(['Unnamed: 0', 'Date', 'AveragePrice', 'Total Volume', '4046', '4225',\n",
              "       '4770', 'Total Bags', 'Small Bags', 'Large Bags', 'XLarge Bags', 'type',\n",
              "       'year', 'region'],\n",
              "      dtype='object')"
            ]
          },
          "metadata": {},
          "execution_count": 28
        }
      ]
    },
    {
      "cell_type": "markdown",
      "metadata": {
        "id": "IXQX19djxgT8"
      },
      "source": [
        "**Variable categóricas**\n",
        "\n",
        "https://towardsdatascience.com/5-methods-to-check-for-nan-values-in-in-python-3f21ddd17eed\n",
        "\n",
        "1.   Elimination of space other characters\n",
        "\n"
      ]
    },
    {
      "cell_type": "code",
      "metadata": {
        "id": "FhIrFqWED_Ei"
      },
      "source": [
        "#From kaggle 3. Could be advisable to replace any character by NaN\n",
        "df_avocado.columns = df_avocado.columns.str.replace(' ', '_')\n",
        "df_avocado = df_avocado.drop('Unnamed:_0',1)"
      ],
      "execution_count": 29,
      "outputs": []
    },
    {
      "cell_type": "code",
      "metadata": {
        "id": "pb9axGMhHGoV",
        "colab": {
          "base_uri": "https://localhost:8080/"
        },
        "outputId": "95a6845f-9d66-4f19-e93a-f57f63aebc0b"
      },
      "source": [
        "print(df_avocado.head())"
      ],
      "execution_count": 30,
      "outputs": [
        {
          "output_type": "stream",
          "name": "stdout",
          "text": [
            "         Date  AveragePrice  Total_Volume  ...          type  year  region\n",
            "0  2015-12-27          1.33      64236.62  ...  conventional  2015  Albany\n",
            "1  2015-12-20          1.35      54876.98  ...  conventional  2015  Albany\n",
            "2  2015-12-13          0.93     118220.22  ...  conventional  2015  Albany\n",
            "3  2015-12-06          1.08      78992.15  ...  conventional  2015  Albany\n",
            "4  2015-11-29          1.28      51039.60  ...  conventional  2015  Albany\n",
            "\n",
            "[5 rows x 13 columns]\n"
          ]
        }
      ]
    },
    {
      "cell_type": "code",
      "metadata": {
        "id": "QTkdHyFO5fhG"
      },
      "source": [
        "# List of column names to clean\n",
        "cols_to_clean = df_avocado[[\"Date\", \"AveragePrice\", \"Total_Volume\", \"Total_Bags\", \"Small_Bags\", \"Large_Bags\", \"XLarge_Bags\"]]"
      ],
      "execution_count": 31,
      "outputs": []
    },
    {
      "cell_type": "code",
      "metadata": {
        "id": "KVxDoEB4s2Of"
      },
      "source": [
        "# List of characters to remove\n",
        "chars_to_remove = ['+', ',','$']"
      ],
      "execution_count": 16,
      "outputs": []
    },
    {
      "cell_type": "code",
      "metadata": {
        "id": "oiMvT1V6bNls"
      },
      "source": [
        "# List of column names to clean\n",
        "#cols_to_clean = ['Installs', 'Price']   "
      ],
      "execution_count": 13,
      "outputs": []
    },
    {
      "cell_type": "code",
      "metadata": {
        "id": "8VaBYLbjtHis",
        "colab": {
          "base_uri": "https://localhost:8080/",
          "height": 52
        },
        "outputId": "18df17f1-c1fd-46af-ede9-bab9960ae4e6"
      },
      "source": [
        "# Loop for each column in cols_to_clean\n",
        "\"\"\"for col in cols_to_clean:\n",
        "    # Loop for each char in chars_to_remove\n",
        "    for char in chars_to_remove:\n",
        "        # Replace the character with an empty string\n",
        "        apps[col] = apps[col].apply(lambda x: x.replace(char, ''))\"\"\""
      ],
      "execution_count": 14,
      "outputs": [
        {
          "output_type": "execute_result",
          "data": {
            "application/vnd.google.colaboratory.intrinsic+json": {
              "type": "string"
            },
            "text/plain": [
              "\"for col in cols_to_clean:\\n    # Loop for each char in chars_to_remove\\n    for char in chars_to_remove:\\n        # Replace the character with an empty string\\n        apps[col] = apps[col].apply(lambda x: x.replace(char, ''))\""
            ]
          },
          "metadata": {},
          "execution_count": 14
        }
      ]
    },
    {
      "cell_type": "code",
      "metadata": {
        "id": "d_oNQMuTuKDA"
      },
      "source": [
        "# Loop for each column in cols_to_clean\n",
        "for col in cols_to_clean:\n",
        "    # Loop for each char in chars_to_remove\n",
        "    for char in chars_to_remove:\n",
        "        # Replace the character with an empty string\n",
        "        cols_to_clean = cols_to_clean.apply(lambda x: x.replace(char, 'NA'))"
      ],
      "execution_count": 32,
      "outputs": []
    },
    {
      "cell_type": "code",
      "metadata": {
        "colab": {
          "base_uri": "https://localhost:8080/"
        },
        "id": "aDqURAY0unnG",
        "outputId": "e197e274-a489-4cfc-e9d8-a76bd28a2dc0"
      },
      "source": [
        "type(cols_to_clean)"
      ],
      "execution_count": 33,
      "outputs": [
        {
          "output_type": "execute_result",
          "data": {
            "text/plain": [
              "pandas.core.frame.DataFrame"
            ]
          },
          "metadata": {},
          "execution_count": 33
        }
      ]
    },
    {
      "cell_type": "code",
      "metadata": {
        "colab": {
          "base_uri": "https://localhost:8080/",
          "height": 325
        },
        "id": "KAtWC53nutKO",
        "outputId": "03daa1fc-dd43-4e35-d244-594f387e92c5"
      },
      "source": [
        "cols_to_clean.head(9)"
      ],
      "execution_count": 34,
      "outputs": [
        {
          "output_type": "execute_result",
          "data": {
            "text/html": [
              "<div>\n",
              "<style scoped>\n",
              "    .dataframe tbody tr th:only-of-type {\n",
              "        vertical-align: middle;\n",
              "    }\n",
              "\n",
              "    .dataframe tbody tr th {\n",
              "        vertical-align: top;\n",
              "    }\n",
              "\n",
              "    .dataframe thead th {\n",
              "        text-align: right;\n",
              "    }\n",
              "</style>\n",
              "<table border=\"1\" class=\"dataframe\">\n",
              "  <thead>\n",
              "    <tr style=\"text-align: right;\">\n",
              "      <th></th>\n",
              "      <th>Date</th>\n",
              "      <th>AveragePrice</th>\n",
              "      <th>Total_Volume</th>\n",
              "      <th>Total_Bags</th>\n",
              "      <th>Small_Bags</th>\n",
              "      <th>Large_Bags</th>\n",
              "      <th>XLarge_Bags</th>\n",
              "    </tr>\n",
              "  </thead>\n",
              "  <tbody>\n",
              "    <tr>\n",
              "      <th>0</th>\n",
              "      <td>2015-12-27</td>\n",
              "      <td>1.33</td>\n",
              "      <td>64236.62</td>\n",
              "      <td>8696.87</td>\n",
              "      <td>8603.62</td>\n",
              "      <td>93.25</td>\n",
              "      <td>0.0</td>\n",
              "    </tr>\n",
              "    <tr>\n",
              "      <th>1</th>\n",
              "      <td>2015-12-20</td>\n",
              "      <td>1.35</td>\n",
              "      <td>54876.98</td>\n",
              "      <td>9505.56</td>\n",
              "      <td>9408.07</td>\n",
              "      <td>97.49</td>\n",
              "      <td>0.0</td>\n",
              "    </tr>\n",
              "    <tr>\n",
              "      <th>2</th>\n",
              "      <td>2015-12-13</td>\n",
              "      <td>0.93</td>\n",
              "      <td>118220.22</td>\n",
              "      <td>8145.35</td>\n",
              "      <td>8042.21</td>\n",
              "      <td>103.14</td>\n",
              "      <td>0.0</td>\n",
              "    </tr>\n",
              "    <tr>\n",
              "      <th>3</th>\n",
              "      <td>2015-12-06</td>\n",
              "      <td>1.08</td>\n",
              "      <td>78992.15</td>\n",
              "      <td>5811.16</td>\n",
              "      <td>5677.40</td>\n",
              "      <td>133.76</td>\n",
              "      <td>0.0</td>\n",
              "    </tr>\n",
              "    <tr>\n",
              "      <th>4</th>\n",
              "      <td>2015-11-29</td>\n",
              "      <td>1.28</td>\n",
              "      <td>51039.60</td>\n",
              "      <td>6183.95</td>\n",
              "      <td>5986.26</td>\n",
              "      <td>197.69</td>\n",
              "      <td>0.0</td>\n",
              "    </tr>\n",
              "    <tr>\n",
              "      <th>5</th>\n",
              "      <td>2015-11-22</td>\n",
              "      <td>1.26</td>\n",
              "      <td>55979.78</td>\n",
              "      <td>6683.91</td>\n",
              "      <td>6556.47</td>\n",
              "      <td>127.44</td>\n",
              "      <td>0.0</td>\n",
              "    </tr>\n",
              "    <tr>\n",
              "      <th>6</th>\n",
              "      <td>2015-11-15</td>\n",
              "      <td>0.99</td>\n",
              "      <td>83453.76</td>\n",
              "      <td>8318.86</td>\n",
              "      <td>8196.81</td>\n",
              "      <td>122.05</td>\n",
              "      <td>0.0</td>\n",
              "    </tr>\n",
              "    <tr>\n",
              "      <th>7</th>\n",
              "      <td>2015-11-08</td>\n",
              "      <td>0.98</td>\n",
              "      <td>109428.33</td>\n",
              "      <td>6829.22</td>\n",
              "      <td>6266.85</td>\n",
              "      <td>562.37</td>\n",
              "      <td>0.0</td>\n",
              "    </tr>\n",
              "    <tr>\n",
              "      <th>8</th>\n",
              "      <td>2015-11-01</td>\n",
              "      <td>1.02</td>\n",
              "      <td>99811.42</td>\n",
              "      <td>11388.36</td>\n",
              "      <td>11104.53</td>\n",
              "      <td>283.83</td>\n",
              "      <td>0.0</td>\n",
              "    </tr>\n",
              "  </tbody>\n",
              "</table>\n",
              "</div>"
            ],
            "text/plain": [
              "         Date  AveragePrice  Total_Volume  ...  Small_Bags  Large_Bags  XLarge_Bags\n",
              "0  2015-12-27          1.33      64236.62  ...     8603.62       93.25          0.0\n",
              "1  2015-12-20          1.35      54876.98  ...     9408.07       97.49          0.0\n",
              "2  2015-12-13          0.93     118220.22  ...     8042.21      103.14          0.0\n",
              "3  2015-12-06          1.08      78992.15  ...     5677.40      133.76          0.0\n",
              "4  2015-11-29          1.28      51039.60  ...     5986.26      197.69          0.0\n",
              "5  2015-11-22          1.26      55979.78  ...     6556.47      127.44          0.0\n",
              "6  2015-11-15          0.99      83453.76  ...     8196.81      122.05          0.0\n",
              "7  2015-11-08          0.98     109428.33  ...     6266.85      562.37          0.0\n",
              "8  2015-11-01          1.02      99811.42  ...    11104.53      283.83          0.0\n",
              "\n",
              "[9 rows x 7 columns]"
            ]
          },
          "metadata": {},
          "execution_count": 34
        }
      ]
    },
    {
      "cell_type": "code",
      "metadata": {
        "id": "1nqDE8as8KZZ"
      },
      "source": [
        "\"\"\"#Detection of NA\n",
        "#import pandas as pd\n",
        "x = float(\"nan\")\n",
        "print(f\"It's pd.isna  : {pd.isna(x)}\")\"\"\""
      ],
      "execution_count": null,
      "outputs": []
    },
    {
      "cell_type": "code",
      "metadata": {
        "colab": {
          "base_uri": "https://localhost:8080/"
        },
        "id": "nnZFI88UxM1_",
        "outputId": "674d2e9b-939b-43ed-cdb2-f42a47d19a3b"
      },
      "source": [
        "#Para comprobar que si hay o no valores NA\n",
        "#https://stackoverflow.com/questions/29530232/how-to-check-if-any-value-is-nan-in-a-pandas-dataframe\n",
        "\n",
        "cols_to_clean.isnull().values.any()"
      ],
      "execution_count": 35,
      "outputs": [
        {
          "output_type": "execute_result",
          "data": {
            "text/plain": [
              "False"
            ]
          },
          "metadata": {},
          "execution_count": 35
        }
      ]
    },
    {
      "cell_type": "markdown",
      "metadata": {
        "id": "ZubuTe5zzC-1"
      },
      "source": [
        "No hay NA presentes en el dataset"
      ]
    },
    {
      "cell_type": "code",
      "metadata": {
        "id": "wFf0cbLuxyEd"
      },
      "source": [
        "#Con este ejemplo se confirma que el código anterior funciona\n",
        "\"\"\"import numpy as np\n",
        "\n",
        "df = pd.DataFrame(dict(age=[5, 6, np.NaN],\n",
        "                   born=[pd.NaT, pd.Timestamp('1939-05-27'),\n",
        "                         pd.Timestamp('1940-04-25')],\n",
        "                   name=['Alfred', 'Batman', ''],\n",
        "                   toy=[None, 'Batmobile', 'Joker']))\"\"\""
      ],
      "execution_count": 21,
      "outputs": []
    },
    {
      "cell_type": "code",
      "metadata": {
        "id": "3z4xMbeUyB6W"
      },
      "source": [
        "\"\"\"df.isnull().values.any()\"\"\""
      ],
      "execution_count": null,
      "outputs": []
    },
    {
      "cell_type": "code",
      "metadata": {
        "id": "b1AteIiIDgDy"
      },
      "source": [
        "\"\"\"df.head()\"\"\""
      ],
      "execution_count": null,
      "outputs": []
    },
    {
      "cell_type": "code",
      "metadata": {
        "id": "nbtzmMZe4kvI"
      },
      "source": [
        "\"\"\"df[\"4046\"]\"\"\""
      ],
      "execution_count": null,
      "outputs": []
    },
    {
      "cell_type": "markdown",
      "metadata": {
        "id": "r9J_Sfh6qC3G"
      },
      "source": [
        "**Exploring categories variables**\n"
      ]
    },
    {
      "cell_type": "code",
      "metadata": {
        "id": "K2Du6Dwcb8lg"
      },
      "source": [
        "import matplotlib.pyplot as plt\n",
        "        "
      ],
      "execution_count": 22,
      "outputs": []
    },
    {
      "cell_type": "code",
      "metadata": {
        "id": "L4KZopzEkbwD",
        "colab": {
          "base_uri": "https://localhost:8080/"
        },
        "outputId": "6c772ac1-480e-459d-9778-c74559449e1b"
      },
      "source": [
        "# Print the total number of unique categories type \n",
        "num_categories_type = len(df_avocado['type'].unique())\n",
        "num_categories_region = len(df_avocado['region'].unique())\n",
        "\n",
        "print('Number of categories from type variable = ', num_categories_type)\n",
        "print('Number of categories from region variable = ', num_categories_region)\n"
      ],
      "execution_count": 36,
      "outputs": [
        {
          "output_type": "stream",
          "name": "stdout",
          "text": [
            "Number of categories from type variable =  2\n",
            "Number of categories from region variable =  54\n"
          ]
        }
      ]
    },
    {
      "cell_type": "code",
      "metadata": {
        "id": "xZg0fBTakiOw",
        "colab": {
          "base_uri": "https://localhost:8080/"
        },
        "outputId": "6f0844e9-e6a9-4967-cf86-0c2746ba7767"
      },
      "source": [
        "# Count the number of avocado in each 'Type'. \n",
        "num_type_avocado = df_avocado['type'].value_counts()\n",
        "num_type_avocado"
      ],
      "execution_count": 39,
      "outputs": [
        {
          "output_type": "execute_result",
          "data": {
            "text/plain": [
              "conventional    9126\n",
              "organic         9123\n",
              "Name: type, dtype: int64"
            ]
          },
          "metadata": {},
          "execution_count": 39
        }
      ]
    },
    {
      "cell_type": "code",
      "metadata": {
        "id": "p2rpdFTMramP",
        "colab": {
          "base_uri": "https://localhost:8080/"
        },
        "outputId": "1a59410f-350d-4575-a7ed-49d35dac02ec"
      },
      "source": [
        "# Sort num_type_avocado in descending order based on the count of apps in each category\n",
        "sorted_num_type_avocado = num_type_avocado.sort_values(ascending = False)\n",
        "\n",
        "sorted_num_type_avocado\n"
      ],
      "execution_count": 40,
      "outputs": [
        {
          "output_type": "execute_result",
          "data": {
            "text/plain": [
              "conventional    9126\n",
              "organic         9123\n",
              "Name: type, dtype: int64"
            ]
          },
          "metadata": {},
          "execution_count": 40
        }
      ]
    },
    {
      "cell_type": "code",
      "metadata": {
        "id": "cRjlE0rzrduw",
        "colab": {
          "base_uri": "https://localhost:8080/",
          "height": 370
        },
        "outputId": "88b994cc-da24-42b1-ee84-f2666879910b"
      },
      "source": [
        "sorted_num_type_avocado.plot(kind=\"bar\",x = num_type_avocado.index,y = num_type_avocado.values)\n",
        "plt.show()\n",
        "sorted_num_type_avocado.value_counts()"
      ],
      "execution_count": 42,
      "outputs": [
        {
          "output_type": "display_data",
          "data": {
            "image/png": "[encoded data removed]",
            "text/plain": [
              "<Figure size 432x288 with 1 Axes>"
            ]
          },
          "metadata": {
            "needs_background": "light"
          }
        },
        {
          "output_type": "execute_result",
          "data": {
            "text/plain": [
              "9123    1\n",
              "9126    1\n",
              "Name: type, dtype: int64"
            ]
          },
          "metadata": {},
          "execution_count": 42
        }
      ]
    },
    {
      "cell_type": "markdown",
      "metadata": {
        "id": "lIHV3_CGzPWk"
      },
      "source": [
        "#**Insight from the data**\n",
        "#1- Which is the most productive region?\n",
        "#2- Which is the most productive type of vegetable?\n"
      ]
    },
    {
      "cell_type": "markdown",
      "metadata": {
        "id": "ZniboPYQtC4L"
      },
      "source": [
        "1- Which is the most productive region"
      ]
    },
    {
      "cell_type": "code",
      "metadata": {
        "id": "rtOIU-j1tCVl"
      },
      "source": [
        "df[region]"
      ],
      "execution_count": null,
      "outputs": []
    },
    {
      "cell_type": "code",
      "metadata": {
        "id": "_CwCWVXsrj-K"
      },
      "source": [
        "\n"
      ],
      "execution_count": null,
      "outputs": []
    },
    {
      "cell_type": "code",
      "metadata": {
        "id": "YX2gnaoVzOP9"
      },
      "source": [
        ""
      ],
      "execution_count": null,
      "outputs": []
    }
  ]
}